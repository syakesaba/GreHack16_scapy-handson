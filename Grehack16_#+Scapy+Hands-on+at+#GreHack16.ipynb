{
 "cells": [
  {
   "cell_type": "markdown",
   "metadata": {},
   "source": [
    "# Scapy Hands-on at #GreHack16\n",
    "\n",
    "## Description\n",
    "\n",
    "Scapy (http://www.secdev.org/projects/scapy, https://github.com/secdev/scapy & http://scapy.readthedocs.io/en/latest/) is a powerful Python-based interactive packet manipulation program and library. It can be used to forge or decode packets for a wide number of protocols, send them on the wire, capture them, match requests and replies, and much more.\n",
    "\n",
    "Each of them is different and gives you the opportunity to enhance your Scapy skills by manipulating yourself and watching a potential solution.\n",
    "\n",
    "\n",
    "## Trophies\n",
    "\n",
    "- :trophy: #1 - [Manipulating Packets](trophies/manipulating_packets.md)\n",
    "- :trophy: #2 - [Network Interactions](trophies/network_interactions.md)\n",
    "- :trophy: #3 - [Intercepting And Modifying Packets](trophies/intercepting_and_modifying.md)\n",
    "- :trophy: #4 - [IPv6 Reconnaissance](trophies/ipv6_reconnaissance.md)\n",
    "- :trophy: #5 - [Visualizations](trophies/visualizations.md)\n",
    "- :trophy: #6 - [Fun With X.509 Certificates](trophies/fun_with_x509.md)\n",
    "- :trophy: #7 - [Playing With TLS](trophies/playing_with_tls.md)\n",
    "- :trophy: #8 - [Adding a New Protocol](trophies/new_protocol.md)\n",
    "- :trophy: #9 - [Answering Machines](trophies/answering_machines.md)\n",
    "- :trophy: #10 - [Pipes Introduction](trophies/pipes_introduction.md)"
   ]
  },
  {
   "cell_type": "markdown",
   "metadata": {},
   "source": [
    "# :trophy: #1 - [Manipulating Packets](trophies/manipulating_packets.md)"
   ]
  },
  {
   "cell_type": "markdown",
   "metadata": {},
   "source": [
    "# Manipulating packets\n",
    "\n",
    "This trophy gives you the opportunity to perform simple Scapy packets manipulation.\n",
    "\n",
    "## Tasks\n",
    "\n",
    "**task #1**\n",
    "\n",
    "- create a valid DNS query to `8.8.8.8`"
   ]
  },
  {
   "cell_type": "code",
   "execution_count": 15,
   "metadata": {
    "collapsed": false
   },
   "outputs": [
    {
     "name": "stdout",
     "output_type": "stream",
     "text": [
      "Begin emission:\n",
      "Finished to send 1 packets.\n",
      "\n",
      "Received 46 packets, got 1 answers, remaining 0 packets\n"
     ]
    }
   ],
   "source": [
    "from scapy.all import *\n",
    "pkt=IP(dst=\"8.8.8.8\")/UDP(sport=9999, dport=53)/DNS(qd=DNSQR(qname=\"github.com\",qtype=\"A\",qclass=\"IN\"))\n",
    "ans=sr1(pkt)"
   ]
  },
  {
   "cell_type": "markdown",
   "metadata": {},
   "source": [
    "- display its summary"
   ]
  },
  {
   "cell_type": "code",
   "execution_count": 16,
   "metadata": {
    "collapsed": false
   },
   "outputs": [
    {
     "data": {
      "text/plain": [
       "'IP / UDP / DNS Ans '"
      ]
     },
     "execution_count": 16,
     "metadata": {},
     "output_type": "execute_result"
    }
   ],
   "source": [
    "ans.summary()"
   ]
  },
  {
   "cell_type": "markdown",
   "metadata": {},
   "source": [
    "- access the source address computed by Scapy"
   ]
  },
  {
   "cell_type": "code",
   "execution_count": 17,
   "metadata": {
    "collapsed": false
   },
   "outputs": [
    {
     "data": {
      "text/plain": [
       "'8.8.8.8'"
      ]
     },
     "execution_count": 17,
     "metadata": {},
     "output_type": "execute_result"
    }
   ],
   "source": [
    "ans[IP].src"
   ]
  },
  {
   "cell_type": "markdown",
   "metadata": {},
   "source": [
    "- use the `sprintf()` method to display the source UDP port"
   ]
  },
  {
   "cell_type": "code",
   "execution_count": 18,
   "metadata": {
    "collapsed": false
   },
   "outputs": [
    {
     "data": {
      "text/plain": [
       "'The source UDP port = domain'"
      ]
     },
     "execution_count": 18,
     "metadata": {},
     "output_type": "execute_result"
    }
   ],
   "source": [
    "ans.sprintf(\"The source UDP port = %UDP.sport%\")"
   ]
  },
  {
   "cell_type": "markdown",
   "metadata": {},
   "source": [
    "- access the layer before the DNS one"
   ]
  },
  {
   "cell_type": "code",
   "execution_count": 19,
   "metadata": {
    "collapsed": false
   },
   "outputs": [
    {
     "data": {
      "text/plain": [
       "<UDP  sport=domain dport=9999 len=36 chksum=0x9278 |<DNS  id=0 qr=1 opcode=QUERY aa=0 tc=0 rd=0 ra=1 z=0 ad=0 cd=0 rcode=server-failure qdcount=1 ancount=0 nscount=0 arcount=0 qd=<DNSQR  qname='github.com.' qtype=A qclass=IN |> an=None ns=None ar=None |>>"
      ]
     },
     "execution_count": 19,
     "metadata": {},
     "output_type": "execute_result"
    }
   ],
   "source": [
    "ans[DNS].underlayer"
   ]
  },
  {
   "cell_type": "markdown",
   "metadata": {},
   "source": [
    "- access the UDP layer"
   ]
  },
  {
   "cell_type": "code",
   "execution_count": 20,
   "metadata": {
    "collapsed": false
   },
   "outputs": [
    {
     "data": {
      "text/plain": [
       "36"
      ]
     },
     "execution_count": 20,
     "metadata": {},
     "output_type": "execute_result"
    }
   ],
   "source": [
    "ans[UDP].len"
   ]
  },
  {
   "cell_type": "markdown",
   "metadata": {},
   "source": [
    "**task #2**\n",
    "\n",
    "- create an implicit packet that builds 5 explicit packets with 5 different TTL values"
   ]
  },
  {
   "cell_type": "code",
   "execution_count": 65,
   "metadata": {
    "collapsed": false
   },
   "outputs": [
    {
     "data": {
      "text/plain": [
       "<IP  frag=0 ttl=[1, 2, 3, 4] proto=udp dst=8.8.8.8 |<UDP  sport=domain dport=domain |<DNS  qd=<DNSQR  qname='github.com' qtype=A qclass=IN |> |>>>"
      ]
     },
     "execution_count": 65,
     "metadata": {},
     "output_type": "execute_result"
    }
   ],
   "source": [
    "pkts=IP(dst=\"8.8.8.8\",ttl=list(range(1,5)))/UDP(dport=53)/DNS(qd=DNSQR(qname=\"github.com\",qtype=\"A\",qclass=\"IN\"))\n",
    "pkts"
   ]
  },
  {
   "cell_type": "markdown",
   "metadata": {},
   "source": [
    "- iterate over this packets"
   ]
  },
  {
   "cell_type": "code",
   "execution_count": 66,
   "metadata": {
    "collapsed": false
   },
   "outputs": [
    {
     "name": "stdout",
     "output_type": "stream",
     "text": [
      "153.120.17.24 -> 153.120.17.2 -> 103.10.113.25 -> 103.10.113.9 -> 103.10.113.117 -> "
     ]
    }
   ],
   "source": [
    "print(pkts[0].src,end=\" -> \")\n",
    "for pkt in pkts:\n",
    "    ans1=sr1(pkt,verbose=0)\n",
    "    print(ans1.src,end=\" -> \")\n",
    "#traceroute(\"8.8.8.8\",l4=UDP(dport=53))"
   ]
  },
  {
   "cell_type": "markdown",
   "metadata": {},
   "source": [
    "## Hints\n",
    "\n",
    "- `ls()` list Scapy protocols names\n",
    "- `ls(PROTO)` list the fields of the _PROTO_ protocol\n",
    "- the `/` operator stacks protocols\n",
    "- four Scapy protocol headers are required\n",
    "- https://blogs.sans.org/pen-testing/files/2016/04/ScapyCheatSheet_v0.2.pdf"
   ]
  },
  {
   "cell_type": "markdown",
   "metadata": {},
   "source": [
    "# :trophy: #2 - [Network Interactions](trophies/network_interactions.md)"
   ]
  },
  {
   "cell_type": "markdown",
   "metadata": {},
   "source": [
    "# Network interactions\n",
    "\n",
    "This trophy is about sending and receiving packets on the network.\n",
    "\n",
    "## Tasks\n",
    "\n",
    "**task #1**\n",
    "\n",
    "- build a simple ICMP packet to 8.8.8.8"
   ]
  },
  {
   "cell_type": "code",
   "execution_count": 67,
   "metadata": {
    "collapsed": false
   },
   "outputs": [],
   "source": [
    "pkt = IP(dst=\"8.8.8.8\")/ICMP()"
   ]
  },
  {
   "cell_type": "markdown",
   "metadata": {},
   "source": [
    "- send it to the network"
   ]
  },
  {
   "cell_type": "code",
   "execution_count": 68,
   "metadata": {
    "collapsed": false
   },
   "outputs": [
    {
     "name": "stdout",
     "output_type": "stream",
     "text": [
      "Begin emission:\n",
      "Finished to send 1 packets.\n",
      "\n",
      "Received 42 packets, got 1 answers, remaining 0 packets\n"
     ]
    }
   ],
   "source": [
    "ans,uns = sr(pkt)"
   ]
  },
  {
   "cell_type": "markdown",
   "metadata": {},
   "source": [
    "- display the whole reply using `show()`"
   ]
  },
  {
   "cell_type": "code",
   "execution_count": 69,
   "metadata": {
    "collapsed": false
   },
   "outputs": [
    {
     "name": "stdout",
     "output_type": "stream",
     "text": [
      "0000 IP / ICMP 153.120.17.24 > 8.8.8.8 echo-request 0 ==> IP / ICMP 8.8.8.8 > 153.120.17.24 echo-reply 0 / Padding\n"
     ]
    }
   ],
   "source": [
    "ans.show()"
   ]
  },
  {
   "cell_type": "markdown",
   "metadata": {},
   "source": [
    "**task #2**\n",
    "\n",
    "- build an implicit ICMP frame (i.e. layer 2)  with a TTL value from to 2 to 7"
   ]
  },
  {
   "cell_type": "code",
   "execution_count": 70,
   "metadata": {
    "collapsed": true
   },
   "outputs": [],
   "source": [
    "pkts = IP(dst=\"8.8.8.8\",ttl=[2,3,4,5,6,7])/ICMP()"
   ]
  },
  {
   "cell_type": "markdown",
   "metadata": {},
   "source": [
    "- send it to the network"
   ]
  },
  {
   "cell_type": "code",
   "execution_count": 71,
   "metadata": {
    "collapsed": false
   },
   "outputs": [
    {
     "name": "stdout",
     "output_type": "stream",
     "text": [
      "Begin emission:\n",
      "Finished to send 6 packets.\n",
      "\n",
      "Received 54 packets, got 6 answers, remaining 0 packets\n"
     ]
    }
   ],
   "source": [
    "ans,uns = sr(pkts)"
   ]
  },
  {
   "cell_type": "markdown",
   "metadata": {},
   "source": [
    "- use `nsummary()` to show replies"
   ]
  },
  {
   "cell_type": "code",
   "execution_count": 72,
   "metadata": {
    "collapsed": false
   },
   "outputs": [
    {
     "name": "stdout",
     "output_type": "stream",
     "text": [
      "0000 IP / ICMP 153.120.17.24 > 8.8.8.8 echo-request 0 ==> IP / ICMP 103.10.113.25 > 153.120.17.24 time-exceeded ttl-zero-during-transit / IPerror / ICMPerror\n",
      "0001 IP / ICMP 153.120.17.24 > 8.8.8.8 echo-request 0 ==> IP / ICMP 103.10.113.101 > 153.120.17.24 time-exceeded ttl-zero-during-transit / IPerror / ICMPerror\n",
      "0002 IP / ICMP 153.120.17.24 > 8.8.8.8 echo-request 0 ==> IP / ICMP 103.10.113.113 > 153.120.17.24 time-exceeded ttl-zero-during-transit / IPerror / ICMPerror\n",
      "0003 IP / ICMP 153.120.17.24 > 8.8.8.8 echo-request 0 ==> IP / ICMP 157.17.131.33 > 153.120.17.24 time-exceeded ttl-zero-during-transit / IPerror / ICMPerror\n",
      "0004 IP / ICMP 153.120.17.24 > 8.8.8.8 echo-request 0 ==> IP / ICMP 210.171.224.96 > 153.120.17.24 time-exceeded ttl-zero-during-transit / IPerror / ICMPerror\n",
      "0005 IP / ICMP 153.120.17.24 > 8.8.8.8 echo-request 0 ==> IP / ICMP 108.170.242.161 > 153.120.17.24 time-exceeded ttl-zero-during-transit / IPerror / ICMPerror\n"
     ]
    }
   ],
   "source": [
    "ans.nsummary()"
   ]
  },
  {
   "cell_type": "markdown",
   "metadata": {},
   "source": [
    "- display the address of the third router on the path"
   ]
  },
  {
   "cell_type": "code",
   "execution_count": 79,
   "metadata": {
    "collapsed": false
   },
   "outputs": [
    {
     "data": {
      "text/plain": [
       "'103.10.113.113'"
      ]
     },
     "execution_count": 79,
     "metadata": {},
     "output_type": "execute_result"
    }
   ],
   "source": [
    "req,resp = ans[2]\n",
    "resp.src"
   ]
  },
  {
   "cell_type": "markdown",
   "metadata": {},
   "source": [
    "- display the results as hex strings"
   ]
  },
  {
   "cell_type": "code",
   "execution_count": 82,
   "metadata": {
    "collapsed": false
   },
   "outputs": [
    {
     "name": "stdout",
     "output_type": "stream",
     "text": [
      "0000 08:32:39.831434 IP / ICMP 153.120.17.24 > 8.8.8.8 echo-request 0 ==> IP / ICMP 103.10.113.25 > 153.120.17.24 time-exceeded ttl-zero-during-transit / IPerror / ICMPerror\n",
      "0000   45 00 00 38 DE 28 00 00  3F 01 1A E9 67 0A 71 19   E..8.(..?...g.q.\n",
      "0010   99 78 11 18 0B 00 F4 FF  00 00 00 00 45 00 00 1C   .x..........E...\n",
      "0020   00 01 00 00 01 01 FF 40  99 78 11 18 08 08 08 08   .......@.x......\n",
      "0030   08 00 F7 FF 00 00 00 00                            ........\n",
      "0001 08:32:39.832900 IP / ICMP 153.120.17.24 > 8.8.8.8 echo-request 0 ==> IP / ICMP 103.10.113.101 > 153.120.17.24 time-exceeded ttl-zero-during-transit / IPerror / ICMPerror\n",
      "0000   45 00 00 38 00 00 00 00  FD 01 3A C5 67 0A 71 65   E..8......:.g.qe\n",
      "0010   99 78 11 18 0B 00 F4 FF  00 00 00 00 45 00 00 1C   .x..........E...\n",
      "0020   00 01 00 00 01 01 FF 40  99 78 11 18 08 08 08 08   .......@.x......\n",
      "0030   08 00 F7 FF 00 00 00 00                            ........\n",
      "0002 08:32:39.834206 IP / ICMP 153.120.17.24 > 8.8.8.8 echo-request 0 ==> IP / ICMP 103.10.113.113 > 153.120.17.24 time-exceeded ttl-zero-during-transit / IPerror / ICMPerror\n",
      "0000   45 00 00 38 EC 9F 00 00  3D 01 0E 1A 67 0A 71 71   E..8....=...g.qq\n",
      "0010   99 78 11 18 0B 00 F4 FF  00 00 00 00 45 00 00 1C   .x..........E...\n",
      "0020   00 01 00 00 01 01 FF 40  99 78 11 18 08 08 08 08   .......@.x......\n",
      "0030   08 00 F7 FF 00 00 00 00                            ........\n",
      "0003 08:32:39.856964 IP / ICMP 153.120.17.24 > 8.8.8.8 echo-request 0 ==> IP / ICMP 157.17.131.33 > 153.120.17.24 time-exceeded ttl-zero-during-transit / IPerror / ICMPerror\n",
      "0000   45 00 00 38 02 A6 00 00  3C 01 B1 5C 9D 11 83 21   E..8....<..\\...!\n",
      "0010   99 78 11 18 0B 00 F4 FF  00 00 00 00 45 00 00 1C   .x..........E...\n",
      "0020   00 01 00 00 01 01 FF 40  99 78 11 18 08 08 08 08   .......@.x......\n",
      "0030   08 00 F7 FF 00 00 00 00                            ........\n",
      "0004 08:32:39.857538 IP / ICMP 153.120.17.24 > 8.8.8.8 echo-request 0 ==> IP / ICMP 210.171.224.96 > 153.120.17.24 time-exceeded ttl-zero-during-transit / IPerror / ICMPerror\n",
      "0000   45 00 00 38 00 00 00 00  F6 01 67 28 D2 AB E0 60   E..8......g(...`\n",
      "0010   99 78 11 18 0B 00 F4 FF  00 00 00 00 45 00 00 1C   .x..........E...\n",
      "0020   00 01 00 00 01 01 FF 40  99 78 11 18 08 08 08 08   .......@.x......\n",
      "0030   08 00 F7 FF 00 00 00 00                            ........\n",
      "0005 08:32:39.869431 IP / ICMP 153.120.17.24 > 8.8.8.8 echo-request 0 ==> IP / ICMP 108.170.242.161 > 153.120.17.24 time-exceeded ttl-zero-during-transit / IPerror / ICMPerror\n",
      "0000   45 00 00 38 E3 95 00 00  35 01 98 53 6C AA F2 A1   E..8....5..Sl...\n",
      "0010   99 78 11 18 0B 00 F4 FF  00 00 00 00 45 80 00 1C   .x..........E...\n",
      "0020   00 01 00 00 01 01 FE C0  99 78 11 18 08 08 08 08   .........x......\n",
      "0030   08 00 F7 FF 00 00 00 00                            ........\n"
     ]
    }
   ],
   "source": [
    "ans.hexdump()"
   ]
  },
  {
   "cell_type": "markdown",
   "metadata": {},
   "source": [
    "**task #3**\n",
    "\n",
    "- send ICMP echo request forever using the `sr*()` function that send packets forever."
   ]
  },
  {
   "cell_type": "code",
   "execution_count": 83,
   "metadata": {
    "collapsed": false,
    "scrolled": true
   },
   "outputs": [
    {
     "name": "stdout",
     "output_type": "stream",
     "text": [
      "RECV 1: IP / ICMP 8.8.8.8 > 153.120.17.24 echo-reply 0 / Padding\n",
      "RECV 1: IP / ICMP 8.8.8.8 > 153.120.17.24 echo-reply 0 / Padding\n",
      " end... \n",
      "Sent 2 packets, received 2 packets. 100.0% hits.\n"
     ]
    },
    {
     "data": {
      "text/plain": [
       "(<Results: TCP:0 UDP:0 ICMP:2 Other:0>,\n",
       " <PacketList: TCP:0 UDP:0 ICMP:0 Other:0>)"
      ]
     },
     "execution_count": 83,
     "metadata": {},
     "output_type": "execute_result"
    }
   ],
   "source": [
    "pkts = IP(dst=\"8.8.8.8\")/ICMP()\n",
    "srloop(pkt)\n",
    "#- stop the function: C-c interrupt"
   ]
  },
  {
   "cell_type": "markdown",
   "metadata": {},
   "source": [
    "- use the `prn` argument to display the source IP address of the replies"
   ]
  },
  {
   "cell_type": "code",
   "execution_count": 91,
   "metadata": {
    "collapsed": false
   },
   "outputs": [
    {
     "name": "stdout",
     "output_type": "stream",
     "text": [
      "RECV 1: 8.8.8.8\n",
      "None\n",
      "RECV 1: 8.8.8.8\n",
      "None\n",
      "RECV 1: 8.8.8.8\n",
      "None\n",
      "RECV 1: 8.8.8.8\n",
      "None\n",
      "        \n",
      "Sent 4 packets, received 4 packets. 100.0% hits.\n"
     ]
    }
   ],
   "source": [
    "pkt = IP(dst=\"8.8.8.8\")/ICMP()\n",
    "result = srloop(pkt,prn=lambda pkts:print(pkts[1][IP].src))\n",
    "#- stop the function: C-c interrupt"
   ]
  },
  {
   "cell_type": "markdown",
   "metadata": {
    "collapsed": true
   },
   "source": [
    "**task #4**\n",
    "\n",
    "- sniff 5 packets on port 443/tcp"
   ]
  },
  {
   "cell_type": "code",
   "execution_count": 94,
   "metadata": {
    "collapsed": false
   },
   "outputs": [
    {
     "name": "stdout",
     "output_type": "stream",
     "text": [
      "0000 Ether / IP / TCP 210.149.252.70:48487 > 153.120.17.24:https A / Padding\n",
      "0001 Ether / IP / TCP 210.149.252.70:48487 > 153.120.17.24:https A / Padding\n",
      "0002 Ether / IP / TCP 210.149.252.70:48487 > 153.120.17.24:https A / Padding\n",
      "0003 Ether / IP / TCP 210.149.252.70:48487 > 153.120.17.24:https PA / Raw\n",
      "0004 Ether / IP / TCP 153.120.17.24:53867 > 172.217.26.99:https S\n"
     ]
    }
   ],
   "source": [
    "sslpkts = sniff(lfilter=lambda pkt:TCP in pkt and pkt[TCP].dport == 443, count=5)\n",
    "sslpkts.show()"
   ]
  },
  {
   "cell_type": "markdown",
   "metadata": {
    "collapsed": true
   },
   "source": [
    "- display them in wireshark (without leaving Scapy)"
   ]
  },
  {
   "cell_type": "code",
   "execution_count": null,
   "metadata": {
    "collapsed": true
   },
   "outputs": [],
   "source": [
    "wireshark(sslpkts)"
   ]
  },
  {
   "cell_type": "markdown",
   "metadata": {
    "collapsed": true
   },
   "source": [
    "- write these 5 packets into `test.pcap`"
   ]
  },
  {
   "cell_type": "code",
   "execution_count": null,
   "metadata": {
    "collapsed": true
   },
   "outputs": [],
   "source": [
    "wrpcap(\"sslpkts.cap\",sslpkts)"
   ]
  },
  {
   "cell_type": "markdown",
   "metadata": {
    "collapsed": true
   },
   "source": [
    "- read them back from the saved PCAP file into the pkts variable"
   ]
  },
  {
   "cell_type": "code",
   "execution_count": null,
   "metadata": {
    "collapsed": true
   },
   "outputs": [],
   "source": [
    "sslpkts_read = rdpcap(\"sslpkts.cap\")"
   ]
  },
  {
   "cell_type": "markdown",
   "metadata": {},
   "source": [
    "- use `+` to concatenate these packets"
   ]
  },
  {
   "cell_type": "code",
   "execution_count": null,
   "metadata": {
    "collapsed": true
   },
   "outputs": [],
   "source": [
    "w_sslpkts = sslpkts + sslpkts_read"
   ]
  },
  {
   "cell_type": "markdown",
   "metadata": {},
   "source": [
    "## Hints\n",
    "\n",
    "- `sr*()` functions send at layer 3\n",
    "- `srp*()` functions send at layer 2\n",
    "- `lsc()` list Scapy functions"
   ]
  },
  {
   "cell_type": "markdown",
   "metadata": {},
   "source": [
    "# :trophy: #3 - Intercepting And Modifying Packets"
   ]
  },
  {
   "cell_type": "markdown",
   "metadata": {},
   "source": [
    "# Intercepting and modifying packets\n",
    "\n",
    "This trophy shows howto use Scapy with NFQUEUE in order to tag and modify\n",
    "packets on the fly.\n",
    "\n",
    "## NOTE\n",
    "```\n",
    "nfqueue library => netfilterqueue library\n",
    "```\n",
    "\n",
    "## Tasks\n",
    "\n",
    "**task #1**\n",
    "\n",
    "- edit the `nfq_trophy.py` template"
   ]
  },
  {
   "cell_type": "code",
   "execution_count": null,
   "metadata": {
    "collapsed": true
   },
   "outputs": [],
   "source": [
    "# Guillaume Valadon <guillaume@valadon.net>\n",
    "\n",
    "\"\"\"Template to use Scapy with NFQUEUE\"\"\"\n",
    "\n",
    "# Note: the following command must be used before launching this script:\n",
    "# sudo iptables -A INPUT -s 8.8.8.8 -p udp --sport 53 -j NFQUEUE --queue-num 2807\n",
    "\n",
    "# apt-get install libnfnetlink-dev\n",
    "# apt-get install libnetfilter-queue-dev\n",
    "# pip install NetfilterQueue\n",
    "\n",
    "from scapy.all import *\n",
    "from netfilterqueue import NetfilterQueue\n",
    "\n",
    "def scapy_callback(pkt):\n",
    "    # Get the data\n",
    "    data = IP(pkt.get_payload())\n",
    "\n",
    "    #pkt.set_payload()\n",
    "\n",
    "    # Accept the packet\n",
    "    pkt.accept()\n",
    "    #pkt.drop()\n",
    "    #pkt.repeat()\n",
    "\n",
    "if __name__ == \"__main__\":\n",
    "    # Get an NFQUEUE handler\n",
    "    q = NetfilterQueue()\n",
    "\n",
    "    # Set the callback\n",
    "    q.bind(2807, scapy_callback)\n",
    "    try:\n",
    "        # Open the queue and start parsing packets\n",
    "        q.run()\n",
    "    except KeyboardInterrupt:\n",
    "        print(\"\")\n",
    "    q.unbind()"
   ]
  },
  {
   "cell_type": "markdown",
   "metadata": {
    "collapsed": true
   },
   "source": [
    "- trigger a packet with `dig` to get the IP address of grehack.fr"
   ]
  },
  {
   "cell_type": "code",
   "execution_count": null,
   "metadata": {
    "collapsed": true
   },
   "outputs": [],
   "source": [
    "#dig grehack.fr @8.8.8.8"
   ]
  },
  {
   "cell_type": "markdown",
   "metadata": {},
   "source": [
    "- check if it works as expected"
   ]
  },
  {
   "cell_type": "code",
   "execution_count": null,
   "metadata": {
    "collapsed": true
   },
   "outputs": [],
   "source": [
    "#check script running is stopped."
   ]
  },
  {
   "cell_type": "markdown",
   "metadata": {},
   "source": [
    "\n",
    "\n",
    "**task #2**"
   ]
  },
  {
   "cell_type": "markdown",
   "metadata": {},
   "source": [
    "\n",
    "- parse the packet with Scapy"
   ]
  },
  {
   "cell_type": "code",
   "execution_count": null,
   "metadata": {
    "collapsed": true
   },
   "outputs": [],
   "source": [
    "# Guillaume Valadon <guillaume@valadon.net>\n",
    "\n",
    "\"\"\"Template to use Scapy with NFQUEUE\"\"\"\n",
    "\n",
    "# Note: the following command must be used before launching this script:\n",
    "# sudo iptables -A INPUT -s 8.8.8.8 -p udp --sport 53 -j NFQUEUE --queue-num 2807\n",
    "\n",
    "# apt-get install libnfnetlink-dev\n",
    "# apt-get install libnetfilter-queue-dev\n",
    "# pip install NetfilterQueue\n",
    "\n",
    "from scapy.all import *\n",
    "from netfilterqueue import NetfilterQueue\n",
    "\n",
    "def scapy_callback(pkt):\n",
    "    # Get the data\n",
    "    data = IP(pkt.get_payload())\n",
    "\n",
    "    data.show() # Show the parsed data!\n",
    "    #pkt.set_payload()\n",
    "\n",
    "    # Accept the packet\n",
    "    pkt.accept()\n",
    "    #pkt.drop()\n",
    "    #pkt.repeat()\n",
    "\n",
    "if __name__ == \"__main__\":\n",
    "    # Get an NFQUEUE handler\n",
    "    q = NetfilterQueue()\n",
    "\n",
    "    # Set the callback\n",
    "    q.bind(2807, scapy_callback)\n",
    "    try:\n",
    "        # Open the queue and start parsing packets\n",
    "        q.run()\n",
    "    except KeyboardInterrupt:\n",
    "        print(\"\")\n",
    "    q.unbind()"
   ]
  },
  {
   "cell_type": "markdown",
   "metadata": {},
   "source": [
    "- check if it contains as DNS header"
   ]
  },
  {
   "cell_type": "code",
   "execution_count": null,
   "metadata": {
    "collapsed": true
   },
   "outputs": [],
   "source": [
    "# Guillaume Valadon <guillaume@valadon.net>\n",
    "\n",
    "\"\"\"Template to use Scapy with NFQUEUE\"\"\"\n",
    "\n",
    "# Note: the following command must be used before launching this script:\n",
    "# sudo iptables -A INPUT -s 8.8.8.8 -p udp --sport 53 -j NFQUEUE --queue-num 2807\n",
    "\n",
    "# apt-get install libnfnetlink-dev\n",
    "# apt-get install libnetfilter-queue-dev\n",
    "# pip install NetfilterQueue\n",
    "\n",
    "from scapy.all import *\n",
    "from netfilterqueue import NetfilterQueue\n",
    "\n",
    "def scapy_callback(pkt):\n",
    "    # Get the data\n",
    "    data = IP(pkt.get_payload())\n",
    "\n",
    "    if DNS in data:\n",
    "        print(\"DNS in packet.!\")\n",
    "    else:\n",
    "        print(\"DNS not in a packet.\")\n",
    "    #pkt.set_payload()\n",
    "\n",
    "    # Accept the packet\n",
    "    pkt.accept()\n",
    "    #pkt.drop()\n",
    "    #pkt.repeat()\n",
    "\n",
    "if __name__ == \"__main__\":\n",
    "    # Get an NFQUEUE handler\n",
    "    q = NetfilterQueue()\n",
    "\n",
    "    # Set the callback\n",
    "    q.bind(2807, scapy_callback)\n",
    "    try:\n",
    "        # Open the queue and start parsing packets\n",
    "        q.run()\n",
    "    except KeyboardInterrupt:\n",
    "        print(\"\")\n",
    "    q.unbind()"
   ]
  },
  {
   "cell_type": "markdown",
   "metadata": {},
   "source": [
    "- remove checksums and lengths"
   ]
  },
  {
   "cell_type": "code",
   "execution_count": null,
   "metadata": {
    "collapsed": true
   },
   "outputs": [],
   "source": [
    "# Guillaume Valadon <guillaume@valadon.net>\n",
    "\n",
    "\"\"\"Template to use Scapy with NFQUEUE\"\"\"\n",
    "\n",
    "# Note: the following command must be used before launching this script:\n",
    "# sudo iptables -A INPUT -s 8.8.8.8 -p udp --sport 53 -j NFQUEUE --queue-num 2807\n",
    "\n",
    "# apt-get install libnfnetlink-dev\n",
    "# apt-get install libnetfilter-queue-dev\n",
    "# pip install NetfilterQueue\n",
    "\n",
    "from scapy.all import *\n",
    "from netfilterqueue import NetfilterQueue\n",
    "\n",
    "def scapy_callback(pkt):\n",
    "    # Get the data\n",
    "    data = IP(pkt.get_payload())\n",
    "\n",
    "    del data.len\n",
    "    del data.chksum\n",
    "\n",
    "    pkt.set_payload(data.build())\n",
    "\n",
    "    # Accept the packet\n",
    "    pkt.accept()\n",
    "    #pkt.drop()\n",
    "    #pkt.repeat()\n",
    "\n",
    "if __name__ == \"__main__\":\n",
    "    # Get an NFQUEUE handler\n",
    "    q = NetfilterQueue()\n",
    "\n",
    "    # Set the callback\n",
    "    q.bind(2807, scapy_callback)\n",
    "    try:\n",
    "        # Open the queue and start parsing packets\n",
    "        q.run()\n",
    "    except KeyboardInterrupt:\n",
    "        print(\"\")\n",
    "    q.unbind()"
   ]
  },
  {
   "cell_type": "markdown",
   "metadata": {},
   "source": [
    "- ~~use `set_verdict_modified()` to send the packet processed by Scapy~~"
   ]
  },
  {
   "cell_type": "markdown",
   "metadata": {},
   "source": [
    "**task #3**\n",
    "\n",
    "- iterate over the received DNS Resource Records"
   ]
  },
  {
   "cell_type": "code",
   "execution_count": null,
   "metadata": {
    "collapsed": true
   },
   "outputs": [],
   "source": [
    "# Guillaume Valadon <guillaume@valadon.net>\n",
    "\n",
    "\"\"\"Template to use Scapy with NFQUEUE\"\"\"\n",
    "\n",
    "# Note: the following command must be used before launching this script:\n",
    "# sudo iptables -A INPUT -s 8.8.8.8 -p udp --sport 53 -j NFQUEUE --queue-num 2807\n",
    "\n",
    "# apt-get install libnfnetlink-dev\n",
    "# apt-get install libnetfilter-queue-dev\n",
    "# pip install NetfilterQueue\n",
    "\n",
    "from scapy.all import *\n",
    "from netfilterqueue import NetfilterQueue\n",
    "\n",
    "def scapy_callback(pkt):\n",
    "    # Get the data\n",
    "    data = IP(pkt.get_payload())\n",
    "\n",
    "    if DNSRR in data:\n",
    "        for i in range(data.ancount):\n",
    "            dnsrr = data.an[i]\n",
    "            rrname = dnsrr.rrname\n",
    "            rrdata = dnsrr.rdata\n",
    "            print(rrname,rrdata)\n",
    "\n",
    "    #pkt.set_payload(data.build())\n",
    "\n",
    "    # Accept the packet\n",
    "    pkt.accept()\n",
    "    #pkt.drop()\n",
    "    #pkt.repeat()\n",
    "\n",
    "if __name__ == \"__main__\":\n",
    "    # Get an NFQUEUE handler\n",
    "    q = NetfilterQueue()\n",
    "\n",
    "    # Set the callback\n",
    "    q.bind(2807, scapy_callback)\n",
    "    try:\n",
    "        # Open the queue and start parsing packets\n",
    "        q.run()\n",
    "    except KeyboardInterrupt:\n",
    "        print(\"\")\n",
    "    q.unbind()"
   ]
  },
  {
   "cell_type": "markdown",
   "metadata": {},
   "source": [
    "- identify the grehack.fr address"
   ]
  },
  {
   "cell_type": "markdown",
   "metadata": {},
   "source": [
    "- change it to 127.0.0.1"
   ]
  },
  {
   "cell_type": "code",
   "execution_count": null,
   "metadata": {
    "collapsed": true
   },
   "outputs": [],
   "source": [
    "# Guillaume Valadon <guillaume@valadon.net>\n",
    "\n",
    "\"\"\"Template to use Scapy with NFQUEUE\"\"\"\n",
    "\n",
    "# Note: the following command must be used before launching this script:\n",
    "# sudo iptables -A INPUT -s 8.8.8.8 -p udp --sport 53 -j NFQUEUE --queue-num 2807\n",
    "\n",
    "# apt-get install libnfnetlink-dev\n",
    "# apt-get install libnetfilter-queue-dev\n",
    "# pip install NetfilterQueue\n",
    "\n",
    "from scapy.all import *\n",
    "from netfilterqueue import NetfilterQueue\n",
    "\n",
    "def scapy_callback(pkt):\n",
    "    # Get the data\n",
    "    data = IP(pkt.get_payload())\n",
    "\n",
    "    if DNSRR in data:\n",
    "        for i in range(data.ancount):\n",
    "            if(\"grehack.fr.\" in data.an[i].rrname):\n",
    "                del data[IP].len\n",
    "                del data[IP].chksum\n",
    "                del data[UDP].len\n",
    "                del data[UDP].chksum\n",
    "                data.an[i].rdata = \"127.0.0.1\"\n",
    "\n",
    "    pkt.set_payload(data.build())\n",
    "\n",
    "    # Accept the packet\n",
    "    pkt.accept()\n",
    "    #pkt.drop()\n",
    "    #pkt.repeat()\n",
    "\n",
    "if __name__ == \"__main__\":\n",
    "    # Get an NFQUEUE handler\n",
    "    q = NetfilterQueue()\n",
    "\n",
    "    # Set the callback\n",
    "    q.bind(2807, scapy_callback)\n",
    "    try:\n",
    "        # Open the queue and start parsing packets\n",
    "        q.run()\n",
    "    except KeyboardInterrupt:\n",
    "        print(\"\")\n",
    "    q.unbind()"
   ]
  },
  {
   "cell_type": "code",
   "execution_count": null,
   "metadata": {
    "collapsed": true
   },
   "outputs": [],
   "source": []
  },
  {
   "cell_type": "markdown",
   "metadata": {},
   "source": [
    "\n",
    "\n",
    "## Hints\n",
    "\n",
    "- on Debian, install the `python-nfqueue` module\n",
    "- DNS is an *old* Scapy protocol, parsing then building might not give the same\n",
    "  packet: you need to remove lengths"
   ]
  },
  {
   "cell_type": "markdown",
   "metadata": {},
   "source": [
    "# :trophy: #4 - [IPv6 Reconnaissance](trophies/ipv6_reconnaissance.md)\n",
    "\n",
    "# IPv6 reconnaissance\n",
    "\n",
    "This trophy provides you some simple tricks to perform IPv6 reconnaissances with\n",
    "Scapy.\n",
    "\n",
    "## Tasks\n",
    "\n",
    "**task #1**\n",
    "\n",
    "- build a simple IPv6 packet with a Router Solicitation (RS) packet on top\n",
    "- send it with sr1\n",
    "- do you have an answer ?"
   ]
  },
  {
   "cell_type": "code",
   "execution_count": 15,
   "metadata": {
    "collapsed": false
   },
   "outputs": [],
   "source": [
    "from scapy.all import *\n",
    "pkt = IPv6()/ICMPv6ND_RS()"
   ]
  },
  {
   "cell_type": "code",
   "execution_count": 16,
   "metadata": {
    "collapsed": false,
    "scrolled": true
   },
   "outputs": [
    {
     "name": "stdout",
     "output_type": "stream",
     "text": [
      "Begin emission:\n",
      "Finished to send 1 packets.\n",
      "\n",
      "Received 62 packets, got 0 answers, remaining 1 packets\n"
     ]
    }
   ],
   "source": [
    "sr1(pkt)"
   ]
  },
  {
   "cell_type": "markdown",
   "metadata": {
    "collapsed": true
   },
   "source": [
    "**task #2**\n",
    "\n",
    "- build a simple IPv6 `ping6` packet to ff0::1 (i.e. all nodes)"
   ]
  },
  {
   "cell_type": "code",
   "execution_count": 17,
   "metadata": {
    "collapsed": true
   },
   "outputs": [],
   "source": [
    "pkt = IPv6(dst=\"ff0::1\")/ICMPv6EchoRequest()"
   ]
  },
  {
   "cell_type": "code",
   "execution_count": null,
   "metadata": {
    "collapsed": false,
    "scrolled": true
   },
   "outputs": [],
   "source": [
    "sr1(pkt)"
   ]
  },
  {
   "cell_type": "markdown",
   "metadata": {},
   "source": [
    "- set the `conf.checkIPsrc` variable to False\n",
    "- send it with sr1\n",
    "- do you have an answer ?"
   ]
  },
  {
   "cell_type": "code",
   "execution_count": 19,
   "metadata": {
    "collapsed": true
   },
   "outputs": [],
   "source": [
    "conf.checkIPsrc = False"
   ]
  },
  {
   "cell_type": "code",
   "execution_count": null,
   "metadata": {
    "collapsed": false,
    "scrolled": false
   },
   "outputs": [],
   "source": [
    "sr1(pkt)"
   ]
  },
  {
   "cell_type": "markdown",
   "metadata": {},
   "source": [
    "**task #3**\n",
    "\n",
    "- use `srloop` to send the previously built message, using the `multi` argument\n",
    "- do you have many answers ?\n",
    "- stop it\n",
    "- add a `prn` argument to display all received IPv6 source addresses"
   ]
  },
  {
   "cell_type": "code",
   "execution_count": null,
   "metadata": {
    "collapsed": false,
    "scrolled": false
   },
   "outputs": [],
   "source": [
    "srloop(IPv6(dst=\"ff0::1\")/ICMPv6EchoRequest(), multi=True)"
   ]
  },
  {
   "cell_type": "code",
   "execution_count": null,
   "metadata": {
    "collapsed": true
   },
   "outputs": [],
   "source": [
    "srloop(IPv6(dst=\"ff0::1\")/ICMPv6EchoRequest(),multi=True, prn=lambda reqresp:print(reqresp[1].src)"
   ]
  },
  {
   "cell_type": "markdown",
   "metadata": {},
   "source": [
    "\n",
    "## Hints\n",
    "\n",
    "- all IPv6 related layers start with **IPv6** or **ICMP6**: use TAB !"
   ]
  },
  {
   "cell_type": "markdown",
   "metadata": {},
   "source": [
    "# trophy: #5 - [Visualizations](trophies/visualizations.md)"
   ]
  },
  {
   "cell_type": "markdown",
   "metadata": {},
   "source": [
    "# Visualizations\n",
    "\n",
    "This trophy shows you some Scapy visualization tools.\n",
    "\n",
    "## Tasks\n",
    "\n",
    "**task #1**\n",
    "\n",
    "- create the packet of your choice"
   ]
  },
  {
   "cell_type": "code",
   "execution_count": 24,
   "metadata": {
    "collapsed": true
   },
   "outputs": [],
   "source": [
    "pkt = Ether()/IP()/TCP()"
   ]
  },
  {
   "cell_type": "markdown",
   "metadata": {},
   "source": [
    "- use `str` and `hexdump` to show the build packet values"
   ]
  },
  {
   "cell_type": "code",
   "execution_count": 25,
   "metadata": {
    "collapsed": false
   },
   "outputs": [
    {
     "name": "stderr",
     "output_type": "stream",
     "text": [
      "WARNING: Unless called manually, this could indicate deprecated use. Should be changed to bytes(self)\n"
     ]
    },
    {
     "data": {
      "text/plain": [
       "\"b'\\\\xff\\\\xff\\\\xff\\\\xff\\\\xff\\\\xff\\\\x00\\\\x00\\\\x00\\\\x00\\\\x00\\\\x00\\\\x08\\\\x00E\\\\x00\\\\x00(\\\\x00\\\\x01\\\\x00\\\\x00@\\\\x06|\\\\xcd\\\\x7f\\\\x00\\\\x00\\\\x01\\\\x7f\\\\x00\\\\x00\\\\x01\\\\x00\\\\x14\\\\x00P\\\\x00\\\\x00\\\\x00\\\\x00\\\\x00\\\\x00\\\\x00\\\\x00P\\\\x02 \\\\x00\\\\x91|\\\\x00\\\\x00'\""
      ]
     },
     "execution_count": 25,
     "metadata": {},
     "output_type": "execute_result"
    }
   ],
   "source": [
    "str(pkt)"
   ]
  },
  {
   "cell_type": "code",
   "execution_count": 26,
   "metadata": {
    "collapsed": false
   },
   "outputs": [
    {
     "name": "stdout",
     "output_type": "stream",
     "text": [
      "0000   FF FF FF FF FF FF 00 00  00 00 00 00 08 00 45 00   ..............E.\n",
      "0010   00 28 00 01 00 00 40 06  7C CD 7F 00 00 01 7F 00   .(....@.|.......\n",
      "0020   00 01 00 14 00 50 00 00  00 00 00 00 00 00 50 02   .....P........P.\n",
      "0030   20 00 91 7C 00 00                                   ..|..\n"
     ]
    }
   ],
   "source": [
    "hexdump(pkt)"
   ]
  },
  {
   "cell_type": "markdown",
   "metadata": {},
   "source": [
    "- call `show` and `show2` on the packet and notice the differences"
   ]
  },
  {
   "cell_type": "code",
   "execution_count": 28,
   "metadata": {
    "collapsed": false
   },
   "outputs": [
    {
     "name": "stdout",
     "output_type": "stream",
     "text": [
      "###[ Ethernet ]###\n",
      "  dst       = ff:ff:ff:ff:ff:ff\n",
      "  src       = 00:00:00:00:00:00\n",
      "  type      = 0x800\n",
      "###[ IP ]###\n",
      "     version   = 4\n",
      "     ihl       = None\n",
      "     tos       = 0x0\n",
      "     len       = None\n",
      "     id        = 1\n",
      "     flags     = \n",
      "     frag      = 0\n",
      "     ttl       = 64\n",
      "     proto     = tcp\n",
      "     chksum    = None\n",
      "     src       = 127.0.0.1\n",
      "     dst       = 127.0.0.1\n",
      "     \\options   \\\n",
      "###[ TCP ]###\n",
      "        sport     = ftp_data\n",
      "        dport     = http\n",
      "        seq       = 0\n",
      "        ack       = 0\n",
      "        dataofs   = None\n",
      "        reserved  = 0\n",
      "        flags     = S\n",
      "        window    = 8192\n",
      "        chksum    = None\n",
      "        urgptr    = 0\n",
      "        options   = {}\n"
     ]
    }
   ],
   "source": [
    "pkt.show()"
   ]
  },
  {
   "cell_type": "code",
   "execution_count": 29,
   "metadata": {
    "collapsed": false
   },
   "outputs": [
    {
     "name": "stdout",
     "output_type": "stream",
     "text": [
      "###[ Ethernet ]###\n",
      "  dst       = ff:ff:ff:ff:ff:ff\n",
      "  src       = 00:00:00:00:00:00\n",
      "  type      = 0x800\n",
      "###[ IP ]###\n",
      "     version   = 4\n",
      "     ihl       = 5\n",
      "     tos       = 0x0\n",
      "     len       = 40\n",
      "     id        = 1\n",
      "     flags     = \n",
      "     frag      = 0\n",
      "     ttl       = 64\n",
      "     proto     = tcp\n",
      "     chksum    = 0x7ccd\n",
      "     src       = 127.0.0.1\n",
      "     dst       = 127.0.0.1\n",
      "     \\options   \\\n",
      "###[ TCP ]###\n",
      "        sport     = ftp_data\n",
      "        dport     = http\n",
      "        seq       = 0\n",
      "        ack       = 0\n",
      "        dataofs   = 5\n",
      "        reserved  = 0\n",
      "        flags     = S\n",
      "        window    = 8192\n",
      "        chksum    = 0x917c\n",
      "        urgptr    = 0\n",
      "        options   = {}\n"
     ]
    }
   ],
   "source": [
    "pkt.show2()"
   ]
  },
  {
   "cell_type": "markdown",
   "metadata": {},
   "source": [
    "- call `pdfdump` or `canvas_dump`"
   ]
  },
  {
   "cell_type": "code",
   "execution_count": 31,
   "metadata": {
    "collapsed": false
   },
   "outputs": [
    {
     "data": {
      "text/plain": [
       "<bound method Packet.pdfdump of <Ether  type=0x800 |<IP  frag=0 proto=tcp |<TCP  |>>>>"
      ]
     },
     "execution_count": 31,
     "metadata": {},
     "output_type": "execute_result"
    }
   ],
   "source": [
    "pkt.pdfdump();pkt.canvas_dump();"
   ]
  },
  {
   "cell_type": "markdown",
   "metadata": {},
   "source": [
    "**task #2**\n",
    "\n",
    "- use `srloop` to send 100 packets to `8.8.8.8` and `8.8.4.4`"
   ]
  },
  {
   "cell_type": "code",
   "execution_count": 6,
   "metadata": {
    "collapsed": false
   },
   "outputs": [
    {
     "name": "stdout",
     "output_type": "stream",
     "text": [
      " end..."
     ]
    }
   ],
   "source": [
    "req,resp = srloop(IP(dst=[\"8.8.8.8\",\"8.8.4.4\"])/ICMP(),count=5,verbose=0)"
   ]
  },
  {
   "cell_type": "markdown",
   "metadata": {},
   "source": [
    "- call `multiplot` on the resulting packets list and plot IP id"
   ]
  },
  {
   "cell_type": "code",
   "execution_count": 27,
   "metadata": {
    "collapsed": false,
    "scrolled": true
   },
   "outputs": [],
   "source": [
    "#%matplotlib inline\n",
    "#from scapy.all import *\n",
    "#req,resp = srloop(IP(dst=[\"8.8.8.8\",\"8.8.4.4\"])/ICMP(),count=5,verbose=0)\n",
    "#resp.multiplot(lambda pkt:pkt.id)"
   ]
  },
  {
   "cell_type": "markdown",
   "metadata": {
    "collapsed": false
   },
   "source": [
    "**task #3**\n",
    "\n",
    "- use the `traceroute` function to get the path to two different targets"
   ]
  },
  {
   "cell_type": "code",
   "execution_count": 23,
   "metadata": {
    "collapsed": false
   },
   "outputs": [
    {
     "name": "stdout",
     "output_type": "stream",
     "text": [
      "Begin emission:\n",
      "Finished to send 60 packets.\n",
      "\n",
      "Received 73 packets, got 28 answers, remaining 32 packets\n",
      "   172.217.26.99:tcp80 183.79.249.252:tcp80 \n",
      "1  153.120.17.2    11  153.120.17.2    11   \n",
      "2  103.10.113.25   11  103.10.113.25   11   \n",
      "3  103.10.113.93   11  103.10.113.93   11   \n",
      "4  103.10.113.109  11  103.10.113.117  11   \n",
      "5  157.17.131.33   11  157.17.131.37   11   \n",
      "6  210.171.224.96  11  157.17.130.113  11   \n",
      "7  108.170.242.130 11  157.17.130.130  11   \n",
      "8  66.249.94.172   11  61.206.157.74   11   \n",
      "9  209.85.252.142  11  124.83.228.197  11   \n",
      "10 108.170.243.129 11  183.79.224.206  11   \n",
      "11 108.170.235.141 11  183.79.249.252  SA   \n",
      "12 172.217.26.99   SA  -                    \n",
      "13 172.217.26.99   SA  -                    \n",
      "14 172.217.26.99   SA  -                    \n",
      "15 172.217.26.99   SA  -                    \n",
      "16 172.217.26.99   SA  -                    \n",
      "17 172.217.26.99   SA  -                    \n"
     ]
    },
    {
     "data": {
      "text/plain": [
       "(<Traceroute: TCP:7 UDP:0 ICMP:21 Other:0>,\n",
       " <Unanswered: TCP:32 UDP:0 ICMP:0 Other:0>)"
      ]
     },
     "execution_count": 23,
     "metadata": {},
     "output_type": "execute_result"
    }
   ],
   "source": [
    "from scapy.all import *\n",
    "traceroute([\"www.google.co.jp\",\"www.yahoo.co.jp\"],l4=TCP(dport=80))"
   ]
  },
  {
   "cell_type": "markdown",
   "metadata": {
    "collapsed": true
   },
   "source": [
    "- try `world_trace` and `trace3D`"
   ]
  },
  {
   "cell_type": "code",
   "execution_count": 29,
   "metadata": {
    "collapsed": false
   },
   "outputs": [],
   "source": [
    "#traced = world_trace([\"8.8.8.8\",\"8.8.4.4\"])\n",
    "#traced.trace3D()\n",
    "#not test"
   ]
  },
  {
   "cell_type": "markdown",
   "metadata": {
    "collapsed": true
   },
   "source": [
    "## Hints\n",
    "\n",
    "- check the help of `multiplot` and `traceroute`"
   ]
  },
  {
   "cell_type": "markdown",
   "metadata": {},
   "source": [
    "# :trophy: #6 - [Fun With X.509 Certificates](trophies/fun_with_x509.md)\n"
   ]
  },
  {
   "cell_type": "markdown",
   "metadata": {
    "collapsed": true
   },
   "source": [
    "# Fun with X.509 certificates\n",
    "\n",
    "Scapy is able to natively parse ASN.1. Internally, this feature is used for SNMP\n",
    "as well as X.509 certificate parsing.\n",
    "\n",
    "This trophy shows you some cool things that you can do.\n",
    "\n",
    "## Tasks\n",
    "\n",
    "**task #1**\n",
    "\n",
    "- retrieve `grehack.fr` X.509 certificate as DER"
   ]
  },
  {
   "cell_type": "code",
   "execution_count": 42,
   "metadata": {
    "collapsed": false
   },
   "outputs": [
    {
     "name": "stdout",
     "output_type": "stream",
     "text": [
      "Certificate:\n",
      "    Data:\n",
      "        Version: 3 (0x2)\n",
      "        Serial Number:\n",
      "            03:70:61:0b:84:86:ea:43:20:f9:61:72:ca:87:4f:bb:d5:1a\n",
      "    Signature Algorithm: sha256WithRSAEncryption\n",
      "        Issuer: C=US, O=Let's Encrypt, CN=Let's Encrypt Authority X3\n",
      "        Validity\n",
      "            Not Before: Mar 26 03:47:00 2017 GMT\n",
      "            Not After : Jun 24 03:47:00 2017 GMT\n",
      "        Subject: CN=grehack.fr\n",
      "        Subject Public Key Info:\n",
      "            Public Key Algorithm: rsaEncryption\n",
      "                Public-Key: (4096 bit)\n",
      "                Modulus:\n",
      "                    00:b6:68:2a:7e:59:9d:fd:84:f7:41:0b:ea:9b:9b:\n",
      "                    0e:19:9a:06:f4:7b:a8:76:e3:56:a6:3e:8b:43:9b:\n",
      "                    91:da:d4:85:cb:bf:09:ed:d1:c5:26:ce:59:85:80:\n",
      "                    4c:ed:fc:f5:bb:d9:f0:7e:76:f3:39:9a:0e:82:d8:\n",
      "                    26:66:c3:86:c7:e3:d9:0b:bd:29:a5:e1:c1:6d:7b:\n",
      "                    35:63:6c:28:41:94:de:93:68:77:a0:26:4c:00:35:\n",
      "                    e7:93:56:78:9d:9a:d0:98:c1:f7:b8:e3:25:74:aa:\n",
      "                    bb:29:58:a2:f0:80:d2:64:ef:d1:95:ac:a9:28:d2:\n",
      "                    db:a4:bc:a6:12:43:1c:74:1b:63:16:73:17:a7:b3:\n",
      "                    71:23:78:19:07:03:99:d2:dc:77:61:f2:4b:f1:04:\n",
      "                    3f:b8:be:21:69:27:cd:43:4e:28:6c:a1:13:8c:a4:\n",
      "                    e0:51:66:08:e8:ac:fb:14:2c:91:b3:1a:78:de:da:\n",
      "                    4b:96:f6:b1:94:c1:f6:be:3b:5e:5f:95:32:50:32:\n",
      "                    20:d9:45:4b:a3:ef:7b:58:53:a6:e2:89:af:c3:93:\n",
      "                    14:f2:e3:66:92:d2:d2:3c:33:4b:84:4c:71:77:15:\n",
      "                    c1:f4:5f:93:69:6f:ba:7e:b7:0c:86:c0:68:74:5f:\n",
      "                    8f:b8:f9:03:53:39:3f:d5:4a:dc:b5:90:44:6e:4e:\n",
      "                    5c:8c:00:4f:0d:38:87:85:0a:69:c3:22:f9:25:1f:\n",
      "                    6c:60:b9:0b:f5:b7:82:81:f2:20:5e:59:49:2d:a9:\n",
      "                    ef:ce:86:ed:8f:00:66:90:47:80:1b:80:73:bd:58:\n",
      "                    0b:80:da:61:9c:36:14:df:b4:b5:66:a1:3b:3e:45:\n",
      "                    1c:74:ae:a7:6c:02:89:c5:23:82:f7:54:b1:b8:a4:\n",
      "                    18:19:7b:aa:95:e9:b2:a1:53:49:3a:c8:e0:68:90:\n",
      "                    ed:a4:6b:7a:1b:e8:2c:a9:e8:84:fd:62:71:22:ca:\n",
      "                    6e:50:ba:e3:36:7d:ae:cb:91:a3:d6:52:67:52:cc:\n",
      "                    a7:d9:d7:da:92:87:4b:3e:90:a3:f4:93:f7:fb:69:\n",
      "                    2c:f0:e2:38:cd:6f:00:ce:49:5f:8c:fe:13:50:e9:\n",
      "                    7b:81:92:bd:19:62:47:6c:c0:72:0b:ed:05:81:b4:\n",
      "                    a3:00:95:e0:3e:ae:01:53:3b:82:6b:bd:51:b1:0b:\n",
      "                    7f:db:21:29:91:03:a5:53:da:a3:c4:34:e3:44:53:\n",
      "                    ac:48:bd:dd:ac:f0:2e:12:fa:82:0a:c5:63:1a:68:\n",
      "                    8d:b9:0d:84:8a:87:7b:2b:52:d1:f0:6c:3a:cb:70:\n",
      "                    69:fc:c2:9f:a9:4f:da:50:6a:0a:b2:b6:01:91:b4:\n",
      "                    bc:e6:8a:8f:8a:db:7b:1f:11:16:72:72:7f:cd:28:\n",
      "                    50:26:51\n",
      "                Exponent: 65537 (0x10001)\n",
      "        X509v3 extensions:\n",
      "            X509v3 Key Usage: critical\n",
      "                Digital Signature, Key Encipherment\n",
      "            X509v3 Extended Key Usage: \n",
      "                TLS Web Server Authentication, TLS Web Client Authentication\n",
      "            X509v3 Basic Constraints: critical\n",
      "                CA:FALSE\n",
      "            X509v3 Subject Key Identifier: \n",
      "                B6:E7:59:38:B3:E9:1B:1E:F7:76:70:0F:E1:03:4F:20:92:BF:3B:90\n",
      "            X509v3 Authority Key Identifier: \n",
      "                keyid:A8:4A:6A:63:04:7D:DD:BA:E6:D1:39:B7:A6:45:65:EF:F3:A8:EC:A1\n",
      "\n",
      "            Authority Information Access: \n",
      "                OCSP - URI:http://ocsp.int-x3.letsencrypt.org/\n",
      "                CA Issuers - URI:http://cert.int-x3.letsencrypt.org/\n",
      "\n",
      "            X509v3 Subject Alternative Name: \n",
      "                DNS:grehack.fr, DNS:grehack.info, DNS:grehack.net, DNS:www.grehack.fr, DNS:www.grehack.info, DNS:www.grehack.net\n",
      "            X509v3 Certificate Policies: \n",
      "                Policy: 2.23.140.1.2.1\n",
      "                Policy: 1.3.6.1.4.1.44947.1.1.1\n",
      "                  CPS: http://cps.letsencrypt.org\n",
      "                  User Notice:\n",
      "                    Explicit Text: This Certificate may only be relied upon by Relying Parties and only in accordance with the Certificate Policy found at https://letsencrypt.org/repository/\n",
      "\n",
      "    Signature Algorithm: sha256WithRSAEncryption\n",
      "         17:9d:ae:9f:f6:b4:ef:b3:df:66:17:b6:65:42:66:59:9c:9a:\n",
      "         b4:2a:8f:6f:e1:c1:14:99:d9:1c:c7:56:b3:3b:a2:f1:54:af:\n",
      "         cd:23:18:de:61:56:3c:66:07:40:bf:18:56:0d:b1:c5:02:2a:\n",
      "         fb:85:e8:a3:28:46:5b:3d:c0:ec:91:0e:6f:aa:f7:83:60:48:\n",
      "         63:c8:0e:a5:b3:b7:11:22:c4:ec:aa:79:60:bc:d7:d2:13:ca:\n",
      "         aa:c7:da:ed:9c:7d:01:d4:db:48:91:3f:88:d7:6b:c8:43:a2:\n",
      "         c3:2e:46:eb:76:5f:fb:6e:eb:7f:da:af:5b:5e:f0:80:9c:f1:\n",
      "         41:16:1a:59:9f:95:bb:e1:41:eb:25:09:7d:ba:0f:a6:49:e4:\n",
      "         57:e8:95:58:64:30:41:46:ac:7b:6b:b7:4d:a3:04:33:c4:fa:\n",
      "         de:43:6b:80:5e:05:82:e8:c8:74:16:a3:cd:90:65:5c:31:b8:\n",
      "         fc:66:f3:05:00:54:94:83:71:0c:00:d1:35:3e:a0:65:cc:b5:\n",
      "         15:3c:52:71:42:bb:b4:c5:fa:92:27:50:84:eb:2c:22:63:7c:\n",
      "         ae:60:25:bf:37:4e:b1:02:92:57:1d:29:e4:a3:24:5b:19:fb:\n",
      "         1b:55:b7:5f:eb:e3:1e:d9:58:b1:b1:57:7f:70:31:3d:6f:ac:\n",
      "         41:54:13:da\n"
     ]
    },
    {
     "name": "stderr",
     "output_type": "stream",
     "text": [
      "depth=2 O = Digital Signature Trust Co., CN = DST Root CA X3\n",
      "verify return:1\n",
      "depth=1 C = US, O = Let's Encrypt, CN = Let's Encrypt Authority X3\n",
      "verify return:1\n",
      "depth=0 CN = grehack.fr\n",
      "verify return:1\n",
      "DONE\n"
     ]
    }
   ],
   "source": [
    "%%sh\n",
    "echo \"Q\" | openssl s_client -connect grehack.fr:443 -CApath /etc/ssl/certs/ | openssl x509 -inform PEM -text -outform DER -out grehack.fr.der"
   ]
  },
  {
   "cell_type": "markdown",
   "metadata": {
    "collapsed": true
   },
   "source": [
    "- use `der2pem()` to convert the certificate to PEM\n",
    "- check the result with `openssl x509`"
   ]
  },
  {
   "cell_type": "code",
   "execution_count": 37,
   "metadata": {
    "collapsed": false
   },
   "outputs": [],
   "source": [
    "#from scapy.all import *\n",
    "#der2pem(\"grehack.fr.der\")"
   ]
  },
  {
   "cell_type": "code",
   "execution_count": 43,
   "metadata": {
    "collapsed": false
   },
   "outputs": [
    {
     "name": "stdout",
     "output_type": "stream",
     "text": [
      "Certificate:\n",
      "    Data:\n",
      "        Version: 3 (0x2)\n",
      "        Serial Number:\n",
      "            03:70:61:0b:84:86:ea:43:20:f9:61:72:ca:87:4f:bb:d5:1a\n",
      "    Signature Algorithm: sha256WithRSAEncryption\n",
      "        Issuer: C=US, O=Let's Encrypt, CN=Let's Encrypt Authority X3\n",
      "        Validity\n",
      "            Not Before: Mar 26 03:47:00 2017 GMT\n",
      "            Not After : Jun 24 03:47:00 2017 GMT\n",
      "        Subject: CN=grehack.fr\n",
      "        Subject Public Key Info:\n",
      "            Public Key Algorithm: rsaEncryption\n",
      "                Public-Key: (4096 bit)\n",
      "                Modulus:\n",
      "                    00:b6:68:2a:7e:59:9d:fd:84:f7:41:0b:ea:9b:9b:\n",
      "                    0e:19:9a:06:f4:7b:a8:76:e3:56:a6:3e:8b:43:9b:\n",
      "                    91:da:d4:85:cb:bf:09:ed:d1:c5:26:ce:59:85:80:\n",
      "                    4c:ed:fc:f5:bb:d9:f0:7e:76:f3:39:9a:0e:82:d8:\n",
      "                    26:66:c3:86:c7:e3:d9:0b:bd:29:a5:e1:c1:6d:7b:\n",
      "                    35:63:6c:28:41:94:de:93:68:77:a0:26:4c:00:35:\n",
      "                    e7:93:56:78:9d:9a:d0:98:c1:f7:b8:e3:25:74:aa:\n",
      "                    bb:29:58:a2:f0:80:d2:64:ef:d1:95:ac:a9:28:d2:\n",
      "                    db:a4:bc:a6:12:43:1c:74:1b:63:16:73:17:a7:b3:\n",
      "                    71:23:78:19:07:03:99:d2:dc:77:61:f2:4b:f1:04:\n",
      "                    3f:b8:be:21:69:27:cd:43:4e:28:6c:a1:13:8c:a4:\n",
      "                    e0:51:66:08:e8:ac:fb:14:2c:91:b3:1a:78:de:da:\n",
      "                    4b:96:f6:b1:94:c1:f6:be:3b:5e:5f:95:32:50:32:\n",
      "                    20:d9:45:4b:a3:ef:7b:58:53:a6:e2:89:af:c3:93:\n",
      "                    14:f2:e3:66:92:d2:d2:3c:33:4b:84:4c:71:77:15:\n",
      "                    c1:f4:5f:93:69:6f:ba:7e:b7:0c:86:c0:68:74:5f:\n",
      "                    8f:b8:f9:03:53:39:3f:d5:4a:dc:b5:90:44:6e:4e:\n",
      "                    5c:8c:00:4f:0d:38:87:85:0a:69:c3:22:f9:25:1f:\n",
      "                    6c:60:b9:0b:f5:b7:82:81:f2:20:5e:59:49:2d:a9:\n",
      "                    ef:ce:86:ed:8f:00:66:90:47:80:1b:80:73:bd:58:\n",
      "                    0b:80:da:61:9c:36:14:df:b4:b5:66:a1:3b:3e:45:\n",
      "                    1c:74:ae:a7:6c:02:89:c5:23:82:f7:54:b1:b8:a4:\n",
      "                    18:19:7b:aa:95:e9:b2:a1:53:49:3a:c8:e0:68:90:\n",
      "                    ed:a4:6b:7a:1b:e8:2c:a9:e8:84:fd:62:71:22:ca:\n",
      "                    6e:50:ba:e3:36:7d:ae:cb:91:a3:d6:52:67:52:cc:\n",
      "                    a7:d9:d7:da:92:87:4b:3e:90:a3:f4:93:f7:fb:69:\n",
      "                    2c:f0:e2:38:cd:6f:00:ce:49:5f:8c:fe:13:50:e9:\n",
      "                    7b:81:92:bd:19:62:47:6c:c0:72:0b:ed:05:81:b4:\n",
      "                    a3:00:95:e0:3e:ae:01:53:3b:82:6b:bd:51:b1:0b:\n",
      "                    7f:db:21:29:91:03:a5:53:da:a3:c4:34:e3:44:53:\n",
      "                    ac:48:bd:dd:ac:f0:2e:12:fa:82:0a:c5:63:1a:68:\n",
      "                    8d:b9:0d:84:8a:87:7b:2b:52:d1:f0:6c:3a:cb:70:\n",
      "                    69:fc:c2:9f:a9:4f:da:50:6a:0a:b2:b6:01:91:b4:\n",
      "                    bc:e6:8a:8f:8a:db:7b:1f:11:16:72:72:7f:cd:28:\n",
      "                    50:26:51\n",
      "                Exponent: 65537 (0x10001)\n",
      "        X509v3 extensions:\n",
      "            X509v3 Key Usage: critical\n",
      "                Digital Signature, Key Encipherment\n",
      "            X509v3 Extended Key Usage: \n",
      "                TLS Web Server Authentication, TLS Web Client Authentication\n",
      "            X509v3 Basic Constraints: critical\n",
      "                CA:FALSE\n",
      "            X509v3 Subject Key Identifier: \n",
      "                B6:E7:59:38:B3:E9:1B:1E:F7:76:70:0F:E1:03:4F:20:92:BF:3B:90\n",
      "            X509v3 Authority Key Identifier: \n",
      "                keyid:A8:4A:6A:63:04:7D:DD:BA:E6:D1:39:B7:A6:45:65:EF:F3:A8:EC:A1\n",
      "\n",
      "            Authority Information Access: \n",
      "                OCSP - URI:http://ocsp.int-x3.letsencrypt.org/\n",
      "                CA Issuers - URI:http://cert.int-x3.letsencrypt.org/\n",
      "\n",
      "            X509v3 Subject Alternative Name: \n",
      "                DNS:grehack.fr, DNS:grehack.info, DNS:grehack.net, DNS:www.grehack.fr, DNS:www.grehack.info, DNS:www.grehack.net\n",
      "            X509v3 Certificate Policies: \n",
      "                Policy: 2.23.140.1.2.1\n",
      "                Policy: 1.3.6.1.4.1.44947.1.1.1\n",
      "                  CPS: http://cps.letsencrypt.org\n",
      "                  User Notice:\n",
      "                    Explicit Text: This Certificate may only be relied upon by Relying Parties and only in accordance with the Certificate Policy found at https://letsencrypt.org/repository/\n",
      "\n",
      "    Signature Algorithm: sha256WithRSAEncryption\n",
      "         17:9d:ae:9f:f6:b4:ef:b3:df:66:17:b6:65:42:66:59:9c:9a:\n",
      "         b4:2a:8f:6f:e1:c1:14:99:d9:1c:c7:56:b3:3b:a2:f1:54:af:\n",
      "         cd:23:18:de:61:56:3c:66:07:40:bf:18:56:0d:b1:c5:02:2a:\n",
      "         fb:85:e8:a3:28:46:5b:3d:c0:ec:91:0e:6f:aa:f7:83:60:48:\n",
      "         63:c8:0e:a5:b3:b7:11:22:c4:ec:aa:79:60:bc:d7:d2:13:ca:\n",
      "         aa:c7:da:ed:9c:7d:01:d4:db:48:91:3f:88:d7:6b:c8:43:a2:\n",
      "         c3:2e:46:eb:76:5f:fb:6e:eb:7f:da:af:5b:5e:f0:80:9c:f1:\n",
      "         41:16:1a:59:9f:95:bb:e1:41:eb:25:09:7d:ba:0f:a6:49:e4:\n",
      "         57:e8:95:58:64:30:41:46:ac:7b:6b:b7:4d:a3:04:33:c4:fa:\n",
      "         de:43:6b:80:5e:05:82:e8:c8:74:16:a3:cd:90:65:5c:31:b8:\n",
      "         fc:66:f3:05:00:54:94:83:71:0c:00:d1:35:3e:a0:65:cc:b5:\n",
      "         15:3c:52:71:42:bb:b4:c5:fa:92:27:50:84:eb:2c:22:63:7c:\n",
      "         ae:60:25:bf:37:4e:b1:02:92:57:1d:29:e4:a3:24:5b:19:fb:\n",
      "         1b:55:b7:5f:eb:e3:1e:d9:58:b1:b1:57:7f:70:31:3d:6f:ac:\n",
      "         41:54:13:da\n",
      "-----BEGIN CERTIFICATE-----\n",
      "MIIGRjCCBS6gAwIBAgISA3BhC4SG6kMg+WFyyodPu9UaMA0GCSqGSIb3DQEBCwUA\n",
      "MEoxCzAJBgNVBAYTAlVTMRYwFAYDVQQKEw1MZXQncyBFbmNyeXB0MSMwIQYDVQQD\n",
      "ExpMZXQncyBFbmNyeXB0IEF1dGhvcml0eSBYMzAeFw0xNzAzMjYwMzQ3MDBaFw0x\n",
      "NzA2MjQwMzQ3MDBaMBUxEzARBgNVBAMTCmdyZWhhY2suZnIwggIiMA0GCSqGSIb3\n",
      "DQEBAQUAA4ICDwAwggIKAoICAQC2aCp+WZ39hPdBC+qbmw4Zmgb0e6h241amPotD\n",
      "m5Ha1IXLvwnt0cUmzlmFgEzt/PW72fB+dvM5mg6C2CZmw4bH49kLvSml4cFtezVj\n",
      "bChBlN6TaHegJkwANeeTVnidmtCYwfe44yV0qrspWKLwgNJk79GVrKko0tukvKYS\n",
      "Qxx0G2MWcxens3EjeBkHA5nS3Hdh8kvxBD+4viFpJ81DTihsoROMpOBRZgjorPsU\n",
      "LJGzGnje2kuW9rGUwfa+O15flTJQMiDZRUuj73tYU6biia/DkxTy42aS0tI8M0uE\n",
      "THF3FcH0X5Npb7p+twyGwGh0X4+4+QNTOT/VSty1kERuTlyMAE8NOIeFCmnDIvkl\n",
      "H2xguQv1t4KB8iBeWUktqe/Ohu2PAGaQR4AbgHO9WAuA2mGcNhTftLVmoTs+RRx0\n",
      "rqdsAonFI4L3VLG4pBgZe6qV6bKhU0k6yOBokO2ka3ob6Cyp6IT9YnEiym5QuuM2\n",
      "fa7LkaPWUmdSzKfZ19qSh0s+kKP0k/f7aSzw4jjNbwDOSV+M/hNQ6XuBkr0ZYkds\n",
      "wHIL7QWBtKMAleA+rgFTO4JrvVGxC3/bISmRA6VT2qPENONEU6xIvd2s8C4S+oIK\n",
      "xWMaaI25DYSKh3srUtHwbDrLcGn8wp+pT9pQagqytgGRtLzmio+K23sfERZycn/N\n",
      "KFAmUQIDAQABo4ICWTCCAlUwDgYDVR0PAQH/BAQDAgWgMB0GA1UdJQQWMBQGCCsG\n",
      "AQUFBwMBBggrBgEFBQcDAjAMBgNVHRMBAf8EAjAAMB0GA1UdDgQWBBS251k4s+kb\n",
      "Hvd2cA/hA08gkr87kDAfBgNVHSMEGDAWgBSoSmpjBH3duubRObemRWXv86jsoTBw\n",
      "BggrBgEFBQcBAQRkMGIwLwYIKwYBBQUHMAGGI2h0dHA6Ly9vY3NwLmludC14My5s\n",
      "ZXRzZW5jcnlwdC5vcmcvMC8GCCsGAQUFBzAChiNodHRwOi8vY2VydC5pbnQteDMu\n",
      "bGV0c2VuY3J5cHQub3JnLzBjBgNVHREEXDBaggpncmVoYWNrLmZyggxncmVoYWNr\n",
      "LmluZm+CC2dyZWhhY2submV0gg53d3cuZ3JlaGFjay5mcoIQd3d3LmdyZWhhY2su\n",
      "aW5mb4IPd3d3LmdyZWhhY2submV0MIH+BgNVHSAEgfYwgfMwCAYGZ4EMAQIBMIHm\n",
      "BgsrBgEEAYLfEwEBATCB1jAmBggrBgEFBQcCARYaaHR0cDovL2Nwcy5sZXRzZW5j\n",
      "cnlwdC5vcmcwgasGCCsGAQUFBwICMIGeDIGbVGhpcyBDZXJ0aWZpY2F0ZSBtYXkg\n",
      "b25seSBiZSByZWxpZWQgdXBvbiBieSBSZWx5aW5nIFBhcnRpZXMgYW5kIG9ubHkg\n",
      "aW4gYWNjb3JkYW5jZSB3aXRoIHRoZSBDZXJ0aWZpY2F0ZSBQb2xpY3kgZm91bmQg\n",
      "YXQgaHR0cHM6Ly9sZXRzZW5jcnlwdC5vcmcvcmVwb3NpdG9yeS8wDQYJKoZIhvcN\n",
      "AQELBQADggEBABedrp/2tO+z32YXtmVCZlmcmrQqj2/hwRSZ2RzHVrM7ovFUr80j\n",
      "GN5hVjxmB0C/GFYNscUCKvuF6KMoRls9wOyRDm+q94NgSGPIDqWztxEixOyqeWC8\n",
      "19ITyqrH2u2cfQHU20iRP4jXa8hDosMuRut2X/tu63/ar1te8ICc8UEWGlmflbvh\n",
      "QeslCX26D6ZJ5FfolVhkMEFGrHtrt02jBDPE+t5Da4BeBYLoyHQWo82QZVwxuPxm\n",
      "8wUAVJSDcQwA0TU+oGXMtRU8UnFCu7TF+pInUITrLCJjfK5gJb83TrECklcdKeSj\n",
      "JFsZ+xtVt1/r4x7ZWLGxV39wMT1vrEFUE9o=\n",
      "-----END CERTIFICATE-----\n"
     ]
    },
    {
     "name": "stderr",
     "output_type": "stream",
     "text": [
      "depth=2 O = Digital Signature Trust Co., CN = DST Root CA X3\n",
      "verify return:1\n",
      "depth=1 C = US, O = Let's Encrypt, CN = Let's Encrypt Authority X3\n",
      "verify return:1\n",
      "depth=0 CN = grehack.fr\n",
      "verify return:1\n",
      "DONE\n"
     ]
    }
   ],
   "source": [
    "%%sh\n",
    "echo \"Q\" | openssl s_client -connect grehack.fr:443 -CApath /etc/ssl/certs/ | openssl x509 -inform PEM -text"
   ]
  },
  {
   "cell_type": "code",
   "execution_count": 49,
   "metadata": {
    "collapsed": false
   },
   "outputs": [],
   "source": [
    "pem_s= b\"\"\"MIIGRjCCBS6gAwIBAgISA3BhC4SG6kMg+WFyyodPu9UaMA0GCSqGSIb3DQEBCwUA\n",
    "MEoxCzAJBgNVBAYTAlVTMRYwFAYDVQQKEw1MZXQncyBFbmNyeXB0MSMwIQYDVQQD\n",
    "ExpMZXQncyBFbmNyeXB0IEF1dGhvcml0eSBYMzAeFw0xNzAzMjYwMzQ3MDBaFw0x\n",
    "NzA2MjQwMzQ3MDBaMBUxEzARBgNVBAMTCmdyZWhhY2suZnIwggIiMA0GCSqGSIb3\n",
    "DQEBAQUAA4ICDwAwggIKAoICAQC2aCp+WZ39hPdBC+qbmw4Zmgb0e6h241amPotD\n",
    "m5Ha1IXLvwnt0cUmzlmFgEzt/PW72fB+dvM5mg6C2CZmw4bH49kLvSml4cFtezVj\n",
    "bChBlN6TaHegJkwANeeTVnidmtCYwfe44yV0qrspWKLwgNJk79GVrKko0tukvKYS\n",
    "Qxx0G2MWcxens3EjeBkHA5nS3Hdh8kvxBD+4viFpJ81DTihsoROMpOBRZgjorPsU\n",
    "LJGzGnje2kuW9rGUwfa+O15flTJQMiDZRUuj73tYU6biia/DkxTy42aS0tI8M0uE\n",
    "THF3FcH0X5Npb7p+twyGwGh0X4+4+QNTOT/VSty1kERuTlyMAE8NOIeFCmnDIvkl\n",
    "H2xguQv1t4KB8iBeWUktqe/Ohu2PAGaQR4AbgHO9WAuA2mGcNhTftLVmoTs+RRx0\n",
    "rqdsAonFI4L3VLG4pBgZe6qV6bKhU0k6yOBokO2ka3ob6Cyp6IT9YnEiym5QuuM2\n",
    "fa7LkaPWUmdSzKfZ19qSh0s+kKP0k/f7aSzw4jjNbwDOSV+M/hNQ6XuBkr0ZYkds\n",
    "wHIL7QWBtKMAleA+rgFTO4JrvVGxC3/bISmRA6VT2qPENONEU6xIvd2s8C4S+oIK\n",
    "xWMaaI25DYSKh3srUtHwbDrLcGn8wp+pT9pQagqytgGRtLzmio+K23sfERZycn/N\n",
    "KFAmUQIDAQABo4ICWTCCAlUwDgYDVR0PAQH/BAQDAgWgMB0GA1UdJQQWMBQGCCsG\n",
    "AQUFBwMBBggrBgEFBQcDAjAMBgNVHRMBAf8EAjAAMB0GA1UdDgQWBBS251k4s+kb\n",
    "Hvd2cA/hA08gkr87kDAfBgNVHSMEGDAWgBSoSmpjBH3duubRObemRWXv86jsoTBw\n",
    "BggrBgEFBQcBAQRkMGIwLwYIKwYBBQUHMAGGI2h0dHA6Ly9vY3NwLmludC14My5s\n",
    "ZXRzZW5jcnlwdC5vcmcvMC8GCCsGAQUFBzAChiNodHRwOi8vY2VydC5pbnQteDMu\n",
    "bGV0c2VuY3J5cHQub3JnLzBjBgNVHREEXDBaggpncmVoYWNrLmZyggxncmVoYWNr\n",
    "LmluZm+CC2dyZWhhY2submV0gg53d3cuZ3JlaGFjay5mcoIQd3d3LmdyZWhhY2su\n",
    "aW5mb4IPd3d3LmdyZWhhY2submV0MIH+BgNVHSAEgfYwgfMwCAYGZ4EMAQIBMIHm\n",
    "BgsrBgEEAYLfEwEBATCB1jAmBggrBgEFBQcCARYaaHR0cDovL2Nwcy5sZXRzZW5j\n",
    "cnlwdC5vcmcwgasGCCsGAQUFBwICMIGeDIGbVGhpcyBDZXJ0aWZpY2F0ZSBtYXkg\n",
    "b25seSBiZSByZWxpZWQgdXBvbiBieSBSZWx5aW5nIFBhcnRpZXMgYW5kIG9ubHkg\n",
    "aW4gYWNjb3JkYW5jZSB3aXRoIHRoZSBDZXJ0aWZpY2F0ZSBQb2xpY3kgZm91bmQg\n",
    "YXQgaHR0cHM6Ly9sZXRzZW5jcnlwdC5vcmcvcmVwb3NpdG9yeS8wDQYJKoZIhvcN\n",
    "AQELBQADggEBABedrp/2tO+z32YXtmVCZlmcmrQqj2/hwRSZ2RzHVrM7ovFUr80j\n",
    "GN5hVjxmB0C/GFYNscUCKvuF6KMoRls9wOyRDm+q94NgSGPIDqWztxEixOyqeWC8\n",
    "19ITyqrH2u2cfQHU20iRP4jXa8hDosMuRut2X/tu63/ar1te8ICc8UEWGlmflbvh\n",
    "QeslCX26D6ZJ5FfolVhkMEFGrHtrt02jBDPE+t5Da4BeBYLoyHQWo82QZVwxuPxm\n",
    "8wUAVJSDcQwA0TU+oGXMtRU8UnFCu7TF+pInUITrLCJjfK5gJb83TrECklcdKeSj\n",
    "JFsZ+xtVt1/r4x7ZWLGxV39wMT1vrEFUE9o=\"\"\"\n",
    "\n",
    "import base64\n",
    "pem = base64.decodebytes(pem_s)"
   ]
  },
  {
   "cell_type": "markdown",
   "metadata": {},
   "source": [
    "- parse its content with the `X509_Cert` class"
   ]
  },
  {
   "cell_type": "code",
   "execution_count": 51,
   "metadata": {
    "collapsed": false
   },
   "outputs": [
    {
     "name": "stdout",
     "output_type": "stream",
     "text": [
      "<UNIVERSAL> <class 'scapy.asn1.asn1.ASN1_Class_metaclass'>\n",
      "<UNIVERSAL> <class 'scapy.asn1.asn1.ASN1_Class_metaclass'>\n",
      "<UNIVERSAL> <class 'scapy.asn1.asn1.ASN1_Class_metaclass'>\n",
      "<UNIVERSAL> <class 'scapy.asn1.asn1.ASN1_Class_metaclass'>\n",
      "<UNIVERSAL> <class 'scapy.asn1.asn1.ASN1_Class_metaclass'>\n",
      "<UNIVERSAL> <class 'scapy.asn1.asn1.ASN1_Class_metaclass'>\n",
      "<UNIVERSAL> <class 'scapy.asn1.asn1.ASN1_Class_metaclass'>\n",
      "<UNIVERSAL> <class 'scapy.asn1.asn1.ASN1_Class_metaclass'>\n",
      "<UNIVERSAL> <class 'scapy.asn1.asn1.ASN1_Class_metaclass'>\n",
      "<UNIVERSAL> <class 'scapy.asn1.asn1.ASN1_Class_metaclass'>\n",
      "<UNIVERSAL> <class 'scapy.asn1.asn1.ASN1_Class_metaclass'>\n",
      "<UNIVERSAL> <class 'scapy.asn1.asn1.ASN1_Class_metaclass'>\n",
      "<UNIVERSAL> <class 'scapy.asn1.asn1.ASN1_Class_metaclass'>\n",
      "<UNIVERSAL> <class 'scapy.asn1.asn1.ASN1_Class_metaclass'>\n",
      "<UNIVERSAL> <class 'scapy.asn1.asn1.ASN1_Class_metaclass'>\n",
      "<UNIVERSAL> <class 'scapy.asn1.asn1.ASN1_Class_metaclass'>\n",
      "<UNIVERSAL> <class 'scapy.asn1.asn1.ASN1_Class_metaclass'>\n",
      "<UNIVERSAL> <class 'scapy.asn1.asn1.ASN1_Class_metaclass'>\n",
      "<UNIVERSAL> <class 'scapy.asn1.asn1.ASN1_Class_metaclass'>\n",
      "<UNIVERSAL> <class 'scapy.asn1.asn1.ASN1_Class_metaclass'>\n",
      "<UNIVERSAL> <class 'scapy.asn1.asn1.ASN1_Class_metaclass'>\n",
      "<UNIVERSAL> <class 'scapy.asn1.asn1.ASN1_Class_metaclass'>\n",
      "<UNIVERSAL> <class 'scapy.asn1.asn1.ASN1_Class_metaclass'>\n",
      "<UNIVERSAL> <class 'scapy.asn1.asn1.ASN1_Class_metaclass'>\n",
      "<UNIVERSAL> <class 'scapy.asn1.asn1.ASN1_Class_metaclass'>\n",
      "<UNIVERSAL> <class 'scapy.asn1.asn1.ASN1_Class_metaclass'>\n",
      "<UNIVERSAL> <class 'scapy.asn1.asn1.ASN1_Class_metaclass'>\n",
      "<UNIVERSAL> <class 'scapy.asn1.asn1.ASN1_Class_metaclass'>\n",
      "<UNIVERSAL> <class 'scapy.asn1.asn1.ASN1_Class_metaclass'>\n"
     ]
    }
   ],
   "source": [
    "from scapy.all import *\n",
    "cert = X509Cert(pem)"
   ]
  },
  {
   "cell_type": "markdown",
   "metadata": {},
   "source": [
    "- display the signature algorithm, and the subject name"
   ]
  },
  {
   "cell_type": "code",
   "execution_count": 81,
   "metadata": {
    "collapsed": false
   },
   "outputs": [
    {
     "name": "stdout",
     "output_type": "stream",
     "text": [
      "###[ X509Cert ]###\n",
      "  version   = <ASN1_INTEGER[2]>\n",
      "  sn        = <ASN1_INTEGER[299577477809249570675521252408705060427034]>\n",
      "  sign_algo = <ASN1_OID[b'.1.2.840.113549.1.1.11']>\n",
      "  sa_value  = <ASN1_NULL[0]>\n",
      "  \\issuer    \\\n",
      "   |###[ X509RDN ]###\n",
      "   |  oid       = <ASN1_OID[b'.2.5.4.6']>\n",
      "   |  value     = <ASN1_PRINTABLE_STRING[b'US']>\n",
      "   |###[ X509RDN ]###\n",
      "   |  oid       = <ASN1_OID[b'.2.5.4.10']>\n",
      "   |  value     = <ASN1_PRINTABLE_STRING[b\"Let's Encrypt\"]>\n",
      "   |###[ X509RDN ]###\n",
      "   |  oid       = <ASN1_OID[b'.2.5.4.3']>\n",
      "   |  value     = <ASN1_PRINTABLE_STRING[b\"Let's Encrypt Authority X3\"]>\n",
      "  not_before= <ASN1_UTC_TIME[b'170326034700Z']>\n",
      "  not_after = <ASN1_UTC_TIME[b'170624034700Z']>\n",
      "  \\subject   \\\n",
      "   |###[ X509RDN ]###\n",
      "   |  oid       = <ASN1_OID[b'.2.5.4.3']>\n",
      "   |  value     = <ASN1_PRINTABLE_STRING[b'grehack.fr']>\n",
      "  pubkey_algo= <ASN1_OID[b'.1.2.840.113549.1.1.1']>\n",
      "  pk_value  = <ASN1_NULL[0]>\n",
      "  pubkey    = <ASN1_BIT_STRING[b'\\x000\\x82\\x02\\n\\x02\\x82\\x02\\x01\\x00\\xb6h*~Y\\x9d\\xfd\\x84\\xf7A\\x0b\\xea\\x9b\\x9b\\x0e\\x19\\x9a\\x06\\xf4{\\xa8v\\xe3V\\xa6>\\x8bC\\x9b\\x91\\xda\\xd4\\x85\\xcb\\xbf\\t\\xed\\xd1\\xc5&\\xceY\\x85\\x80L\\xed\\xfc\\xf5\\xbb\\xd9\\xf0~v\\xf39\\x9a\\x0e\\x82\\xd8&f\\xc3\\x86\\xc7\\xe3\\xd9\\x0b\\xbd)\\xa5\\xe1\\xc1m{5cl(A\\x94\\xde\\x93hw\\xa0&L\\x005\\xe7\\x93Vx\\x9d\\x9a\\xd0\\x98\\xc1\\xf7\\xb8\\xe3%t\\xaa\\xbb)X\\xa2\\xf0\\x80\\xd2d\\xef\\xd1\\x95\\xac\\xa9(\\xd2\\xdb\\xa4\\xbc\\xa6\\x12C\\x1ct\\x1bc\\x16s\\x17\\xa7\\xb3q#x\\x19\\x07\\x03\\x99\\xd2\\xdcwa\\xf2K\\xf1\\x04?\\xb8\\xbe!i\\'\\xcdCN(l\\xa1\\x13\\x8c\\xa4\\xe0Qf\\x08\\xe8\\xac\\xfb\\x14,\\x91\\xb3\\x1ax\\xde\\xdaK\\x96\\xf6\\xb1\\x94\\xc1\\xf6\\xbe;^_\\x952P2 \\xd9EK\\xa3\\xef{XS\\xa6\\xe2\\x89\\xaf\\xc3\\x93\\x14\\xf2\\xe3f\\x92\\xd2\\xd2<3K\\x84Lqw\\x15\\xc1\\xf4_\\x93io\\xba~\\xb7\\x0c\\x86\\xc0ht_\\x8f\\xb8\\xf9\\x03S9?\\xd5J\\xdc\\xb5\\x90DnN\\\\\\x8c\\x00O\\r8\\x87\\x85\\ni\\xc3\"\\xf9%\\x1fl`\\xb9\\x0b\\xf5\\xb7\\x82\\x81\\xf2 ^YI-\\xa9\\xef\\xce\\x86\\xed\\x8f\\x00f\\x90G\\x80\\x1b\\x80s\\xbdX\\x0b\\x80\\xdaa\\x9c6\\x14\\xdf\\xb4\\xb5f\\xa1;>E\\x1ct\\xae\\xa7l\\x02\\x89\\xc5#\\x82\\xf7T\\xb1\\xb8\\xa4\\x18\\x19{\\xaa\\x95\\xe9\\xb2\\xa1SI:\\xc8\\xe0h\\x90\\xed\\xa4kz\\x1b\\xe8,\\xa9\\xe8\\x84\\xfdbq\"\\xcanP\\xba\\xe36}\\xae\\xcb\\x91\\xa3\\xd6RgR\\xcc\\xa7\\xd9\\xd7\\xda\\x92\\x87K>\\x90\\xa3\\xf4\\x93\\xf7\\xfbi,\\xf0\\xe28\\xcdo\\x00\\xceI_\\x8c\\xfe\\x13P\\xe9{\\x81\\x92\\xbd\\x19bGl\\xc0r\\x0b\\xed\\x05\\x81\\xb4\\xa3\\x00\\x95\\xe0>\\xae\\x01S;\\x82k\\xbdQ\\xb1\\x0b\\x7f\\xdb!)\\x91\\x03\\xa5S\\xda\\xa3\\xc44\\xe3DS\\xacH\\xbd\\xdd\\xac\\xf0.\\x12\\xfa\\x82\\n\\xc5c\\x1ah\\x8d\\xb9\\r\\x84\\x8a\\x87{+R\\xd1\\xf0l:\\xcbpi\\xfc\\xc2\\x9f\\xa9O\\xdaPj\\n\\xb2\\xb6\\x01\\x91\\xb4\\xbc\\xe6\\x8a\\x8f\\x8a\\xdb{\\x1f\\x11\\x16rr\\x7f\\xcd(P&Q\\x02\\x03\\x01\\x00\\x01']>\n",
      "  \\x509v3ext \\\n",
      "   |###[ X509v3Ext ]###\n",
      "   |  val       = <ASN1_SEQUENCE[[<ASN1_OID[b'.2.5.29.15']>, <ASN1_BOOLEAN[-1]>, <ASN1_STRING[b'\\x03\\x02\\x05\\xa0']>]]>\n",
      "   |###[ X509v3Ext ]###\n",
      "   |  val       = <ASN1_SEQUENCE[[<ASN1_OID[b'.2.5.29.37']>, <ASN1_STRING[b'0\\x14\\x06\\x08+\\x06\\x01\\x05\\x05\\x07\\x03\\x01\\x06\\x08+\\x06\\x01\\x05\\x05\\x07\\x03\\x02']>]]>\n",
      "   |###[ X509v3Ext ]###\n",
      "   |  val       = <ASN1_SEQUENCE[[<ASN1_OID[b'.2.5.29.19']>, <ASN1_BOOLEAN[-1]>, <ASN1_STRING[b'0\\x00']>]]>\n",
      "   |###[ X509v3Ext ]###\n",
      "   |  val       = <ASN1_SEQUENCE[[<ASN1_OID[b'.2.5.29.14']>, <ASN1_STRING[b'\\x04\\x14\\xb6\\xe7Y8\\xb3\\xe9\\x1b\\x1e\\xf7vp\\x0f\\xe1\\x03O \\x92\\xbf;\\x90']>]]>\n",
      "   |###[ X509v3Ext ]###\n",
      "   |  val       = <ASN1_SEQUENCE[[<ASN1_OID[b'.2.5.29.35']>, <ASN1_STRING[b'0\\x16\\x80\\x14\\xa8Jjc\\x04}\\xdd\\xba\\xe6\\xd19\\xb7\\xa6Ee\\xef\\xf3\\xa8\\xec\\xa1']>]]>\n",
      "   |###[ X509v3Ext ]###\n",
      "   |  val       = <ASN1_SEQUENCE[[<ASN1_OID[b'.1.3.6.1.5.5.7.1.1']>, <ASN1_STRING[b'0b0/\\x06\\x08+\\x06\\x01\\x05\\x05\\x070\\x01\\x86#http://ocsp.int-x3.letsencrypt.org/0/\\x06\\x08+\\x06\\x01\\x05\\x05\\x070\\x02\\x86#http://cert.int-x3.letsencrypt.org/']>]]>\n",
      "   |###[ X509v3Ext ]###\n",
      "   |  val       = <ASN1_SEQUENCE[[<ASN1_OID[b'.2.5.29.17']>, <ASN1_STRING[b'0Z\\x82\\ngrehack.fr\\x82\\x0cgrehack.info\\x82\\x0bgrehack.net\\x82\\x0ewww.grehack.fr\\x82\\x10www.grehack.info\\x82\\x0fwww.grehack.net']>]]>\n",
      "   |###[ X509v3Ext ]###\n",
      "   |  val       = <ASN1_SEQUENCE[[<ASN1_OID[b'.2.5.29.32']>, <ASN1_STRING[b'0\\x81\\xf30\\x08\\x06\\x06g\\x81\\x0c\\x01\\x02\\x010\\x81\\xe6\\x06\\x0b+\\x06\\x01\\x04\\x01\\x82\\xdf\\x13\\x01\\x01\\x010\\x81\\xd60&\\x06\\x08+\\x06\\x01\\x05\\x05\\x07\\x02\\x01\\x16\\x1ahttp://cps.letsencrypt.org0\\x81\\xab\\x06\\x08+\\x06\\x01\\x05\\x05\\x07\\x02\\x020\\x81\\x9e\\x0c\\x81\\x9bThis Certificate may only be relied upon by Relying Parties and only in accordance with the Certificate Policy found at https://letsencrypt.org/repository/']>]]>\n",
      "  sign_algo2= <ASN1_OID[b'.1.2.840.113549.1.1.11']>\n",
      "  sa2_value = <ASN1_NULL[0]>\n",
      "  signature = <ASN1_BIT_STRING[b'\\x00\\x17\\x9d\\xae\\x9f\\xf6\\xb4\\xef\\xb3\\xdff\\x17\\xb6eBfY\\x9c\\x9a\\xb4*\\x8fo\\xe1\\xc1\\x14\\x99\\xd9\\x1c\\xc7V\\xb3;\\xa2\\xf1T\\xaf\\xcd#\\x18\\xdeaV<f\\x07@\\xbf\\x18V\\r\\xb1\\xc5\\x02*\\xfb\\x85\\xe8\\xa3(F[=\\xc0\\xec\\x91\\x0eo\\xaa\\xf7\\x83`Hc\\xc8\\x0e\\xa5\\xb3\\xb7\\x11\"\\xc4\\xec\\xaay`\\xbc\\xd7\\xd2\\x13\\xca\\xaa\\xc7\\xda\\xed\\x9c}\\x01\\xd4\\xdbH\\x91?\\x88\\xd7k\\xc8C\\xa2\\xc3.F\\xebv_\\xfbn\\xeb\\x7f\\xda\\xaf[^\\xf0\\x80\\x9c\\xf1A\\x16\\x1aY\\x9f\\x95\\xbb\\xe1A\\xeb%\\t}\\xba\\x0f\\xa6I\\xe4W\\xe8\\x95Xd0AF\\xac{k\\xb7M\\xa3\\x043\\xc4\\xfa\\xdeCk\\x80^\\x05\\x82\\xe8\\xc8t\\x16\\xa3\\xcd\\x90e\\\\1\\xb8\\xfcf\\xf3\\x05\\x00T\\x94\\x83q\\x0c\\x00\\xd15>\\xa0e\\xcc\\xb5\\x15<RqB\\xbb\\xb4\\xc5\\xfa\\x92\\'P\\x84\\xeb,\"c|\\xae`%\\xbf7N\\xb1\\x02\\x92W\\x1d)\\xe4\\xa3$[\\x19\\xfb\\x1bU\\xb7_\\xeb\\xe3\\x1e\\xd9X\\xb1\\xb1W\\x7fp1=o\\xacAT\\x13\\xda']>\n"
     ]
    }
   ],
   "source": [
    "cert.sign_algo #sha256WithRSAEncryption\n",
    "cert.subject\n",
    "cert.display()"
   ]
  },
  {
   "cell_type": "markdown",
   "metadata": {},
   "source": [
    "- find the name of the OCSP server"
   ]
  },
  {
   "cell_type": "code",
   "execution_count": 74,
   "metadata": {
    "collapsed": false
   },
   "outputs": [
    {
     "data": {
      "text/plain": [
       "<ASN1_SEQUENCE[[<ASN1_OID[b'.1.3.6.1.5.5.7.1.1']>, <ASN1_STRING[b'0b0/\\x06\\x08+\\x06\\x01\\x05\\x05\\x070\\x01\\x86#http://ocsp.int-x3.letsencrypt.org/0/\\x06\\x08+\\x06\\x01\\x05\\x05\\x070\\x02\\x86#http://cert.int-x3.letsencrypt.org/']>]]>"
      ]
     },
     "execution_count": 74,
     "metadata": {},
     "output_type": "execute_result"
    }
   ],
   "source": [
    "cert[10].val"
   ]
  },
  {
   "cell_type": "markdown",
   "metadata": {},
   "source": [
    "**task #2**\n",
    "\n",
    "- use the `Cert` object to load the certificate from its filename"
   ]
  },
  {
   "cell_type": "code",
   "execution_count": null,
   "metadata": {
    "collapsed": false
   },
   "outputs": [],
   "source": [
    "cert = Cert(\"grehack.fr.der\")"
   ]
  },
  {
   "cell_type": "markdown",
   "metadata": {},
   "source": [
    "- display the number of days until expiration"
   ]
  },
  {
   "cell_type": "code",
   "execution_count": null,
   "metadata": {
    "collapsed": true
   },
   "outputs": [],
   "source": [
    "# cert.not_after"
   ]
  },
  {
   "cell_type": "markdown",
   "metadata": {},
   "source": [
    "- is it a self signed certificate ?"
   ]
  },
  {
   "cell_type": "code",
   "execution_count": null,
   "metadata": {
    "collapsed": true
   },
   "outputs": [],
   "source": [
    "# cert.ASN1_root"
   ]
  },
  {
   "cell_type": "markdown",
   "metadata": {},
   "source": [
    "**task #3**\n",
    "\n",
    "- generate an RSA private key using `openssl genrsa`\n",
    "- load it in Scapy with `PrivKey`\n",
    "- assign your birthday to the certificate serial number\n",
    "- use the `resignCert` method to sign the certificate with your own signature\n",
    "- check the result with `openssl x509`\n",
    "- verify the signature using the `PrivKey` `verify` method\n",
    "\n",
    "## Hints\n",
    "\n",
    "- X.509 certificate can be downloaded from a web browser status bar\n",
    "- use the `obj` argument of `der2pem()` with the 'CERTIFICATE' type\n",
    "- verify the new signature, set the `verify()` `h` and `t` arguments to sha256 and pkcs"
   ]
  },
  {
   "cell_type": "markdown",
   "metadata": {},
   "source": [
    "# :trophy: #7 - [Playing With TLS](trophies/playing_with_tls.md)\n"
   ]
  },
  {
   "cell_type": "markdown",
   "metadata": {},
   "source": [
    "# Playing with TLS\n",
    "\n",
    "The pending [PR #294](playing_with_tls.md) brings a native TLS support to Scapy.\n",
    "\n",
    "This trophy shows you some cool things that you can do.\n",
    "\n",
    "## Tasks\n",
    "\n",
    "**task #1**\n",
    "\n",
    "- clone a new Scapy git repository from https://github.com/mtury/scapy.git, and\n",
    "  swith to the tl2 branch"
   ]
  },
  {
   "cell_type": "code",
   "execution_count": null,
   "metadata": {
    "collapsed": true
   },
   "outputs": [],
   "source": []
  },
  {
   "cell_type": "code",
   "execution_count": null,
   "metadata": {
    "collapsed": true
   },
   "outputs": [],
   "source": []
  },
  {
   "cell_type": "code",
   "execution_count": null,
   "metadata": {
    "collapsed": true
   },
   "outputs": [],
   "source": []
  },
  {
   "cell_type": "code",
   "execution_count": null,
   "metadata": {
    "collapsed": true
   },
   "outputs": [],
   "source": []
  },
  {
   "cell_type": "markdown",
   "metadata": {},
   "source": [
    "- :trophy: #7 - [Playing With TLS](trophies/playing_with_tls.md)\n",
    "- :trophy: #8 - [Adding a New Protocol](trophies/new_protocol.md)\n",
    "- :trophy: #9 - [Answering Machines](trophies/answering_machines.md)\n",
    "- :trophy: #10 - [Pipes Introduction](trophies/pipes_introduction.md)"
   ]
  },
  {
   "cell_type": "markdown",
   "metadata": {
    "collapsed": true
   },
   "source": []
  },
  {
   "cell_type": "code",
   "execution_count": null,
   "metadata": {
    "collapsed": true
   },
   "outputs": [],
   "source": []
  }
 ],
 "metadata": {
  "kernelspec": {
   "display_name": "Python 3",
   "language": "python",
   "name": "python3"
  },
  "language_info": {
   "codemirror_mode": {
    "name": "ipython",
    "version": 3
   },
   "file_extension": ".py",
   "mimetype": "text/x-python",
   "name": "python",
   "nbconvert_exporter": "python",
   "pygments_lexer": "ipython3",
   "version": "3.6.0"
  }
 },
 "nbformat": 4,
 "nbformat_minor": 2
}
